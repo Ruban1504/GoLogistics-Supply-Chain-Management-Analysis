{
 "cells": [
  {
   "cell_type": "markdown",
   "id": "850bfde7-c5a0-4c6c-823a-33dd01b7f564",
   "metadata": {},
   "source": [
    "# DATA PREPROCESSING"
   ]
  },
  {
   "cell_type": "markdown",
   "id": "ad08a350-3f27-491b-935e-1bc5590d1c84",
   "metadata": {},
   "source": [
    "## Pickup Preprocessing\n"
   ]
  },
  {
   "cell_type": "markdown",
   "id": "2ca2967b-b9bb-42cc-9141-6e138bece53b",
   "metadata": {},
   "source": [
    "### Import Libraries:"
   ]
  },
  {
   "cell_type": "code",
   "execution_count": 2,
   "id": "4124af3f-c3de-446e-b173-3428cf3c6b04",
   "metadata": {},
   "outputs": [],
   "source": [
    "import pandas as pd\n",
    "import numpy as np\n",
    "import datetime"
   ]
  },
  {
   "cell_type": "markdown",
   "id": "028c906a-aa4f-4482-b526-842281f24a6a",
   "metadata": {},
   "source": [
    "### Load Datasets:"
   ]
  },
  {
   "cell_type": "code",
   "execution_count": 3,
   "id": "7c7d8b86-2bc7-4f32-b1dc-a3104a9e30a3",
   "metadata": {},
   "outputs": [],
   "source": [
    "df1=pd.read_csv(r\"E:\\DATA ANALYTICS\\Internship\\Technocolabs\\Gologistics\\Pickup Five Cities Datasets\\Pickup Five Cities Datasets\\pickup_cq.csv\")\n",
    "df2=pd.read_csv(r\"E:\\DATA ANALYTICS\\Internship\\Technocolabs\\Gologistics\\Pickup Five Cities Datasets\\Pickup Five Cities Datasets\\pickup_hz.csv\")\n",
    "df3=pd.read_csv(r\"E:\\DATA ANALYTICS\\Internship\\Technocolabs\\Gologistics\\Pickup Five Cities Datasets\\Pickup Five Cities Datasets\\pickup_jl.csv\")\n",
    "df4=pd.read_csv(r\"E:\\DATA ANALYTICS\\Internship\\Technocolabs\\Gologistics\\Pickup Five Cities Datasets\\Pickup Five Cities Datasets\\pickup_sh.csv\")\n",
    "df5=pd.read_csv(r\"E:\\DATA ANALYTICS\\Internship\\Technocolabs\\Gologistics\\Pickup Five Cities Datasets\\Pickup Five Cities Datasets\\pickup_yt.csv\")\n"
   ]
  },
  {
   "cell_type": "code",
   "execution_count": 4,
   "id": "b000e279-69dd-42e9-97bc-e9a27106447c",
   "metadata": {},
   "outputs": [],
   "source": [
    "#merging all the 5 pickup datasets.\n",
    "merged_dataset=pd.concat([df1,df2,df3,df4,df5],ignore_index=True)"
   ]
  },
  {
   "cell_type": "code",
   "execution_count": 5,
   "id": "a218d577-a446-4b58-a590-7eb1d46612d9",
   "metadata": {},
   "outputs": [
    {
     "data": {
      "text/html": [
       "<div>\n",
       "<style scoped>\n",
       "    .dataframe tbody tr th:only-of-type {\n",
       "        vertical-align: middle;\n",
       "    }\n",
       "\n",
       "    .dataframe tbody tr th {\n",
       "        vertical-align: top;\n",
       "    }\n",
       "\n",
       "    .dataframe thead th {\n",
       "        text-align: right;\n",
       "    }\n",
       "</style>\n",
       "<table border=\"1\" class=\"dataframe\">\n",
       "  <thead>\n",
       "    <tr style=\"text-align: right;\">\n",
       "      <th></th>\n",
       "      <th>order_id</th>\n",
       "      <th>region_id</th>\n",
       "      <th>city</th>\n",
       "      <th>courier_id</th>\n",
       "      <th>accept_time</th>\n",
       "      <th>time_window_start</th>\n",
       "      <th>time_window_end</th>\n",
       "      <th>lng</th>\n",
       "      <th>lat</th>\n",
       "      <th>aoi_id</th>\n",
       "      <th>aoi_type</th>\n",
       "      <th>pickup_time</th>\n",
       "      <th>pickup_gps_time</th>\n",
       "      <th>pickup_gps_lng</th>\n",
       "      <th>pickup_gps_lat</th>\n",
       "      <th>accept_gps_time</th>\n",
       "      <th>accept_gps_lng</th>\n",
       "      <th>accept_gps_lat</th>\n",
       "      <th>ds</th>\n",
       "    </tr>\n",
       "  </thead>\n",
       "  <tbody>\n",
       "    <tr>\n",
       "      <th>0</th>\n",
       "      <td>483671</td>\n",
       "      <td>3</td>\n",
       "      <td>Chongqing</td>\n",
       "      <td>1518</td>\n",
       "      <td>08-14 07:57:00</td>\n",
       "      <td>08-14 09:00:00</td>\n",
       "      <td>08-14 11:00:00</td>\n",
       "      <td>106.46877</td>\n",
       "      <td>29.47204</td>\n",
       "      <td>218</td>\n",
       "      <td>14</td>\n",
       "      <td>08-14 09:38:00</td>\n",
       "      <td>NaN</td>\n",
       "      <td>NaN</td>\n",
       "      <td>NaN</td>\n",
       "      <td>NaN</td>\n",
       "      <td>NaN</td>\n",
       "      <td>NaN</td>\n",
       "      <td>814</td>\n",
       "    </tr>\n",
       "    <tr>\n",
       "      <th>1</th>\n",
       "      <td>1746131</td>\n",
       "      <td>3</td>\n",
       "      <td>Chongqing</td>\n",
       "      <td>4706</td>\n",
       "      <td>10-09 07:46:00</td>\n",
       "      <td>10-09 09:00:00</td>\n",
       "      <td>10-09 11:00:00</td>\n",
       "      <td>106.46872</td>\n",
       "      <td>29.47200</td>\n",
       "      <td>218</td>\n",
       "      <td>14</td>\n",
       "      <td>10-09 09:42:00</td>\n",
       "      <td>NaN</td>\n",
       "      <td>NaN</td>\n",
       "      <td>NaN</td>\n",
       "      <td>NaN</td>\n",
       "      <td>NaN</td>\n",
       "      <td>NaN</td>\n",
       "      <td>1009</td>\n",
       "    </tr>\n",
       "    <tr>\n",
       "      <th>2</th>\n",
       "      <td>2301722</td>\n",
       "      <td>3</td>\n",
       "      <td>Chongqing</td>\n",
       "      <td>4706</td>\n",
       "      <td>10-09 13:57:00</td>\n",
       "      <td>10-09 13:57:00</td>\n",
       "      <td>10-09 15:57:00</td>\n",
       "      <td>106.46869</td>\n",
       "      <td>29.47191</td>\n",
       "      <td>218</td>\n",
       "      <td>14</td>\n",
       "      <td>10-09 15:53:00</td>\n",
       "      <td>10-09 15:53:00</td>\n",
       "      <td>106.46821</td>\n",
       "      <td>29.46771</td>\n",
       "      <td>10-09 13:56:00</td>\n",
       "      <td>106.46929</td>\n",
       "      <td>29.47231</td>\n",
       "      <td>1009</td>\n",
       "    </tr>\n",
       "    <tr>\n",
       "      <th>3</th>\n",
       "      <td>3788723</td>\n",
       "      <td>3</td>\n",
       "      <td>Chongqing</td>\n",
       "      <td>4706</td>\n",
       "      <td>05-19 08:13:00</td>\n",
       "      <td>05-19 11:00:00</td>\n",
       "      <td>05-19 13:00:00</td>\n",
       "      <td>106.46878</td>\n",
       "      <td>29.47208</td>\n",
       "      <td>218</td>\n",
       "      <td>14</td>\n",
       "      <td>05-19 11:59:00</td>\n",
       "      <td>NaN</td>\n",
       "      <td>NaN</td>\n",
       "      <td>NaN</td>\n",
       "      <td>NaN</td>\n",
       "      <td>NaN</td>\n",
       "      <td>NaN</td>\n",
       "      <td>519</td>\n",
       "    </tr>\n",
       "    <tr>\n",
       "      <th>4</th>\n",
       "      <td>713435</td>\n",
       "      <td>3</td>\n",
       "      <td>Chongqing</td>\n",
       "      <td>4706</td>\n",
       "      <td>05-22 08:16:00</td>\n",
       "      <td>05-22 09:00:00</td>\n",
       "      <td>05-22 11:00:00</td>\n",
       "      <td>106.46813</td>\n",
       "      <td>29.47228</td>\n",
       "      <td>218</td>\n",
       "      <td>14</td>\n",
       "      <td>05-22 10:40:00</td>\n",
       "      <td>05-22 10:40:00</td>\n",
       "      <td>106.46827</td>\n",
       "      <td>29.47270</td>\n",
       "      <td>NaN</td>\n",
       "      <td>NaN</td>\n",
       "      <td>NaN</td>\n",
       "      <td>522</td>\n",
       "    </tr>\n",
       "    <tr>\n",
       "      <th>...</th>\n",
       "      <td>...</td>\n",
       "      <td>...</td>\n",
       "      <td>...</td>\n",
       "      <td>...</td>\n",
       "      <td>...</td>\n",
       "      <td>...</td>\n",
       "      <td>...</td>\n",
       "      <td>...</td>\n",
       "      <td>...</td>\n",
       "      <td>...</td>\n",
       "      <td>...</td>\n",
       "      <td>...</td>\n",
       "      <td>...</td>\n",
       "      <td>...</td>\n",
       "      <td>...</td>\n",
       "      <td>...</td>\n",
       "      <td>...</td>\n",
       "      <td>...</td>\n",
       "      <td>...</td>\n",
       "    </tr>\n",
       "    <tr>\n",
       "      <th>6136142</th>\n",
       "      <td>5728371</td>\n",
       "      <td>134</td>\n",
       "      <td>Yantai</td>\n",
       "      <td>15432</td>\n",
       "      <td>07-15 12:33:00</td>\n",
       "      <td>07-15 17:00:00</td>\n",
       "      <td>07-15 19:00:00</td>\n",
       "      <td>121.35625</td>\n",
       "      <td>37.56492</td>\n",
       "      <td>24460</td>\n",
       "      <td>14</td>\n",
       "      <td>07-15 17:15:00</td>\n",
       "      <td>07-15 17:08:00</td>\n",
       "      <td>121.35697</td>\n",
       "      <td>37.56436</td>\n",
       "      <td>NaN</td>\n",
       "      <td>NaN</td>\n",
       "      <td>NaN</td>\n",
       "      <td>715</td>\n",
       "    </tr>\n",
       "    <tr>\n",
       "      <th>6136143</th>\n",
       "      <td>5449890</td>\n",
       "      <td>134</td>\n",
       "      <td>Yantai</td>\n",
       "      <td>15432</td>\n",
       "      <td>08-28 08:03:00</td>\n",
       "      <td>08-28 09:00:00</td>\n",
       "      <td>08-28 11:00:00</td>\n",
       "      <td>121.35583</td>\n",
       "      <td>37.56493</td>\n",
       "      <td>24460</td>\n",
       "      <td>14</td>\n",
       "      <td>08-28 08:43:00</td>\n",
       "      <td>08-28 08:43:00</td>\n",
       "      <td>121.36560</td>\n",
       "      <td>37.55906</td>\n",
       "      <td>08-28 08:03:00</td>\n",
       "      <td>121.36573</td>\n",
       "      <td>37.55896</td>\n",
       "      <td>828</td>\n",
       "    </tr>\n",
       "    <tr>\n",
       "      <th>6136144</th>\n",
       "      <td>5212482</td>\n",
       "      <td>134</td>\n",
       "      <td>Yantai</td>\n",
       "      <td>15432</td>\n",
       "      <td>07-29 10:56:00</td>\n",
       "      <td>07-29 13:00:00</td>\n",
       "      <td>07-29 15:00:00</td>\n",
       "      <td>121.35577</td>\n",
       "      <td>37.56443</td>\n",
       "      <td>24460</td>\n",
       "      <td>14</td>\n",
       "      <td>07-29 11:40:00</td>\n",
       "      <td>07-29 11:40:00</td>\n",
       "      <td>121.35588</td>\n",
       "      <td>37.56419</td>\n",
       "      <td>07-29 10:54:00</td>\n",
       "      <td>121.35732</td>\n",
       "      <td>37.56325</td>\n",
       "      <td>729</td>\n",
       "    </tr>\n",
       "    <tr>\n",
       "      <th>6136145</th>\n",
       "      <td>1347523</td>\n",
       "      <td>134</td>\n",
       "      <td>Yantai</td>\n",
       "      <td>15432</td>\n",
       "      <td>07-30 08:17:00</td>\n",
       "      <td>07-30 09:00:00</td>\n",
       "      <td>07-30 11:00:00</td>\n",
       "      <td>121.35579</td>\n",
       "      <td>37.56456</td>\n",
       "      <td>24460</td>\n",
       "      <td>14</td>\n",
       "      <td>07-30 09:18:00</td>\n",
       "      <td>NaN</td>\n",
       "      <td>NaN</td>\n",
       "      <td>NaN</td>\n",
       "      <td>07-30 08:09:00</td>\n",
       "      <td>121.36598</td>\n",
       "      <td>37.55852</td>\n",
       "      <td>730</td>\n",
       "    </tr>\n",
       "    <tr>\n",
       "      <th>6136146</th>\n",
       "      <td>5983259</td>\n",
       "      <td>134</td>\n",
       "      <td>Yantai</td>\n",
       "      <td>15432</td>\n",
       "      <td>08-08 10:28:00</td>\n",
       "      <td>08-08 10:28:00</td>\n",
       "      <td>08-08 12:28:00</td>\n",
       "      <td>121.35604</td>\n",
       "      <td>37.56489</td>\n",
       "      <td>24460</td>\n",
       "      <td>14</td>\n",
       "      <td>08-08 11:02:00</td>\n",
       "      <td>08-08 11:02:00</td>\n",
       "      <td>121.35596</td>\n",
       "      <td>37.56495</td>\n",
       "      <td>08-08 10:28:00</td>\n",
       "      <td>121.36677</td>\n",
       "      <td>37.56350</td>\n",
       "      <td>808</td>\n",
       "    </tr>\n",
       "  </tbody>\n",
       "</table>\n",
       "<p>6136147 rows × 19 columns</p>\n",
       "</div>"
      ],
      "text/plain": [
       "         order_id  region_id       city  courier_id     accept_time  \\\n",
       "0          483671          3  Chongqing        1518  08-14 07:57:00   \n",
       "1         1746131          3  Chongqing        4706  10-09 07:46:00   \n",
       "2         2301722          3  Chongqing        4706  10-09 13:57:00   \n",
       "3         3788723          3  Chongqing        4706  05-19 08:13:00   \n",
       "4          713435          3  Chongqing        4706  05-22 08:16:00   \n",
       "...           ...        ...        ...         ...             ...   \n",
       "6136142   5728371        134     Yantai       15432  07-15 12:33:00   \n",
       "6136143   5449890        134     Yantai       15432  08-28 08:03:00   \n",
       "6136144   5212482        134     Yantai       15432  07-29 10:56:00   \n",
       "6136145   1347523        134     Yantai       15432  07-30 08:17:00   \n",
       "6136146   5983259        134     Yantai       15432  08-08 10:28:00   \n",
       "\n",
       "        time_window_start time_window_end        lng       lat  aoi_id  \\\n",
       "0          08-14 09:00:00  08-14 11:00:00  106.46877  29.47204     218   \n",
       "1          10-09 09:00:00  10-09 11:00:00  106.46872  29.47200     218   \n",
       "2          10-09 13:57:00  10-09 15:57:00  106.46869  29.47191     218   \n",
       "3          05-19 11:00:00  05-19 13:00:00  106.46878  29.47208     218   \n",
       "4          05-22 09:00:00  05-22 11:00:00  106.46813  29.47228     218   \n",
       "...                   ...             ...        ...       ...     ...   \n",
       "6136142    07-15 17:00:00  07-15 19:00:00  121.35625  37.56492   24460   \n",
       "6136143    08-28 09:00:00  08-28 11:00:00  121.35583  37.56493   24460   \n",
       "6136144    07-29 13:00:00  07-29 15:00:00  121.35577  37.56443   24460   \n",
       "6136145    07-30 09:00:00  07-30 11:00:00  121.35579  37.56456   24460   \n",
       "6136146    08-08 10:28:00  08-08 12:28:00  121.35604  37.56489   24460   \n",
       "\n",
       "         aoi_type     pickup_time pickup_gps_time  pickup_gps_lng  \\\n",
       "0              14  08-14 09:38:00             NaN             NaN   \n",
       "1              14  10-09 09:42:00             NaN             NaN   \n",
       "2              14  10-09 15:53:00  10-09 15:53:00       106.46821   \n",
       "3              14  05-19 11:59:00             NaN             NaN   \n",
       "4              14  05-22 10:40:00  05-22 10:40:00       106.46827   \n",
       "...           ...             ...             ...             ...   \n",
       "6136142        14  07-15 17:15:00  07-15 17:08:00       121.35697   \n",
       "6136143        14  08-28 08:43:00  08-28 08:43:00       121.36560   \n",
       "6136144        14  07-29 11:40:00  07-29 11:40:00       121.35588   \n",
       "6136145        14  07-30 09:18:00             NaN             NaN   \n",
       "6136146        14  08-08 11:02:00  08-08 11:02:00       121.35596   \n",
       "\n",
       "         pickup_gps_lat accept_gps_time  accept_gps_lng  accept_gps_lat    ds  \n",
       "0                   NaN             NaN             NaN             NaN   814  \n",
       "1                   NaN             NaN             NaN             NaN  1009  \n",
       "2              29.46771  10-09 13:56:00       106.46929        29.47231  1009  \n",
       "3                   NaN             NaN             NaN             NaN   519  \n",
       "4              29.47270             NaN             NaN             NaN   522  \n",
       "...                 ...             ...             ...             ...   ...  \n",
       "6136142        37.56436             NaN             NaN             NaN   715  \n",
       "6136143        37.55906  08-28 08:03:00       121.36573        37.55896   828  \n",
       "6136144        37.56419  07-29 10:54:00       121.35732        37.56325   729  \n",
       "6136145             NaN  07-30 08:09:00       121.36598        37.55852   730  \n",
       "6136146        37.56495  08-08 10:28:00       121.36677        37.56350   808  \n",
       "\n",
       "[6136147 rows x 19 columns]"
      ]
     },
     "execution_count": 5,
     "metadata": {},
     "output_type": "execute_result"
    }
   ],
   "source": [
    "merged_dataset"
   ]
  },
  {
   "cell_type": "markdown",
   "id": "3086f830-cd94-448e-be1e-1277e732d9c7",
   "metadata": {},
   "source": [
    "### Overview of Dataset:"
   ]
  },
  {
   "cell_type": "code",
   "execution_count": 6,
   "id": "413266ef-0e87-406f-95c2-fec4cb91de5e",
   "metadata": {},
   "outputs": [
    {
     "name": "stdout",
     "output_type": "stream",
     "text": [
      "<class 'pandas.core.frame.DataFrame'>\n",
      "RangeIndex: 6136147 entries, 0 to 6136146\n",
      "Data columns (total 19 columns):\n",
      " #   Column             Dtype  \n",
      "---  ------             -----  \n",
      " 0   order_id           int64  \n",
      " 1   region_id          int64  \n",
      " 2   city               object \n",
      " 3   courier_id         int64  \n",
      " 4   accept_time        object \n",
      " 5   time_window_start  object \n",
      " 6   time_window_end    object \n",
      " 7   lng                float64\n",
      " 8   lat                float64\n",
      " 9   aoi_id             int64  \n",
      " 10  aoi_type           int64  \n",
      " 11  pickup_time        object \n",
      " 12  pickup_gps_time    object \n",
      " 13  pickup_gps_lng     float64\n",
      " 14  pickup_gps_lat     float64\n",
      " 15  accept_gps_time    object \n",
      " 16  accept_gps_lng     float64\n",
      " 17  accept_gps_lat     float64\n",
      " 18  ds                 int64  \n",
      "dtypes: float64(6), int64(6), object(7)\n",
      "memory usage: 889.5+ MB\n"
     ]
    }
   ],
   "source": [
    "merged_dataset.info()"
   ]
  },
  {
   "cell_type": "code",
   "execution_count": 7,
   "id": "430029c2-cc43-4530-a206-1ccbeebc2108",
   "metadata": {},
   "outputs": [
    {
     "data": {
      "text/html": [
       "<div>\n",
       "<style scoped>\n",
       "    .dataframe tbody tr th:only-of-type {\n",
       "        vertical-align: middle;\n",
       "    }\n",
       "\n",
       "    .dataframe tbody tr th {\n",
       "        vertical-align: top;\n",
       "    }\n",
       "\n",
       "    .dataframe thead th {\n",
       "        text-align: right;\n",
       "    }\n",
       "</style>\n",
       "<table border=\"1\" class=\"dataframe\">\n",
       "  <thead>\n",
       "    <tr style=\"text-align: right;\">\n",
       "      <th></th>\n",
       "      <th>order_id</th>\n",
       "      <th>region_id</th>\n",
       "      <th>courier_id</th>\n",
       "      <th>lng</th>\n",
       "      <th>lat</th>\n",
       "      <th>aoi_id</th>\n",
       "      <th>aoi_type</th>\n",
       "      <th>pickup_gps_lng</th>\n",
       "      <th>pickup_gps_lat</th>\n",
       "      <th>accept_gps_lng</th>\n",
       "      <th>accept_gps_lat</th>\n",
       "      <th>ds</th>\n",
       "    </tr>\n",
       "  </thead>\n",
       "  <tbody>\n",
       "    <tr>\n",
       "      <th>count</th>\n",
       "      <td>6.136147e+06</td>\n",
       "      <td>6.136147e+06</td>\n",
       "      <td>6.136147e+06</td>\n",
       "      <td>6.136147e+06</td>\n",
       "      <td>6.136147e+06</td>\n",
       "      <td>6.136147e+06</td>\n",
       "      <td>6.136147e+06</td>\n",
       "      <td>4.343285e+06</td>\n",
       "      <td>4.343285e+06</td>\n",
       "      <td>3.353776e+06</td>\n",
       "      <td>3.353776e+06</td>\n",
       "      <td>6.136147e+06</td>\n",
       "    </tr>\n",
       "    <tr>\n",
       "      <th>mean</th>\n",
       "      <td>3.090931e+06</td>\n",
       "      <td>6.452570e+01</td>\n",
       "      <td>7.889059e+03</td>\n",
       "      <td>1.183564e+02</td>\n",
       "      <td>3.230873e+01</td>\n",
       "      <td>1.215777e+04</td>\n",
       "      <td>5.043091e+00</td>\n",
       "      <td>1.183813e+02</td>\n",
       "      <td>3.257753e+01</td>\n",
       "      <td>1.185414e+02</td>\n",
       "      <td>3.270376e+01</td>\n",
       "      <td>7.803486e+02</td>\n",
       "    </tr>\n",
       "    <tr>\n",
       "      <th>std</th>\n",
       "      <td>1.775744e+06</td>\n",
       "      <td>3.791702e+01</td>\n",
       "      <td>4.565536e+03</td>\n",
       "      <td>5.720413e+00</td>\n",
       "      <td>3.680536e+00</td>\n",
       "      <td>7.131654e+03</td>\n",
       "      <td>5.848862e+00</td>\n",
       "      <td>5.792829e+00</td>\n",
       "      <td>3.865521e+00</td>\n",
       "      <td>5.705898e+00</td>\n",
       "      <td>3.930465e+00</td>\n",
       "      <td>1.661045e+02</td>\n",
       "    </tr>\n",
       "    <tr>\n",
       "      <th>min</th>\n",
       "      <td>0.000000e+00</td>\n",
       "      <td>0.000000e+00</td>\n",
       "      <td>0.000000e+00</td>\n",
       "      <td>1.053727e+02</td>\n",
       "      <td>2.810210e+01</td>\n",
       "      <td>0.000000e+00</td>\n",
       "      <td>0.000000e+00</td>\n",
       "      <td>1.025392e+02</td>\n",
       "      <td>1.999148e+01</td>\n",
       "      <td>1.025391e+02</td>\n",
       "      <td>2.000799e+01</td>\n",
       "      <td>5.010000e+02</td>\n",
       "    </tr>\n",
       "    <tr>\n",
       "      <th>25%</th>\n",
       "      <td>1.559888e+06</td>\n",
       "      <td>3.300000e+01</td>\n",
       "      <td>4.046000e+03</td>\n",
       "      <td>1.199455e+02</td>\n",
       "      <td>3.019368e+01</td>\n",
       "      <td>5.921000e+03</td>\n",
       "      <td>1.000000e+00</td>\n",
       "      <td>1.199407e+02</td>\n",
       "      <td>3.020180e+01</td>\n",
       "      <td>1.199479e+02</td>\n",
       "      <td>3.021873e+01</td>\n",
       "      <td>6.220000e+02</td>\n",
       "    </tr>\n",
       "    <tr>\n",
       "      <th>50%</th>\n",
       "      <td>3.093924e+06</td>\n",
       "      <td>6.600000e+01</td>\n",
       "      <td>7.878000e+03</td>\n",
       "      <td>1.202768e+02</td>\n",
       "      <td>3.043618e+01</td>\n",
       "      <td>1.217000e+04</td>\n",
       "      <td>1.000000e+00</td>\n",
       "      <td>1.202858e+02</td>\n",
       "      <td>3.094079e+01</td>\n",
       "      <td>1.203087e+02</td>\n",
       "      <td>3.101978e+01</td>\n",
       "      <td>8.040000e+02</td>\n",
       "    </tr>\n",
       "    <tr>\n",
       "      <th>75%</th>\n",
       "      <td>4.627960e+06</td>\n",
       "      <td>9.500000e+01</td>\n",
       "      <td>1.175800e+04</td>\n",
       "      <td>1.213778e+02</td>\n",
       "      <td>3.135063e+01</td>\n",
       "      <td>1.820100e+04</td>\n",
       "      <td>1.400000e+01</td>\n",
       "      <td>1.214115e+02</td>\n",
       "      <td>3.695500e+01</td>\n",
       "      <td>1.214257e+02</td>\n",
       "      <td>3.718493e+01</td>\n",
       "      <td>9.200000e+02</td>\n",
       "    </tr>\n",
       "    <tr>\n",
       "      <th>max</th>\n",
       "      <td>6.161997e+06</td>\n",
       "      <td>1.340000e+02</td>\n",
       "      <td>1.606600e+04</td>\n",
       "      <td>1.303666e+02</td>\n",
       "      <td>4.442747e+01</td>\n",
       "      <td>2.454300e+04</td>\n",
       "      <td>1.400000e+01</td>\n",
       "      <td>1.303508e+02</td>\n",
       "      <td>4.567432e+01</td>\n",
       "      <td>1.276731e+02</td>\n",
       "      <td>4.567428e+01</td>\n",
       "      <td>1.031000e+03</td>\n",
       "    </tr>\n",
       "  </tbody>\n",
       "</table>\n",
       "</div>"
      ],
      "text/plain": [
       "           order_id     region_id    courier_id           lng           lat  \\\n",
       "count  6.136147e+06  6.136147e+06  6.136147e+06  6.136147e+06  6.136147e+06   \n",
       "mean   3.090931e+06  6.452570e+01  7.889059e+03  1.183564e+02  3.230873e+01   \n",
       "std    1.775744e+06  3.791702e+01  4.565536e+03  5.720413e+00  3.680536e+00   \n",
       "min    0.000000e+00  0.000000e+00  0.000000e+00  1.053727e+02  2.810210e+01   \n",
       "25%    1.559888e+06  3.300000e+01  4.046000e+03  1.199455e+02  3.019368e+01   \n",
       "50%    3.093924e+06  6.600000e+01  7.878000e+03  1.202768e+02  3.043618e+01   \n",
       "75%    4.627960e+06  9.500000e+01  1.175800e+04  1.213778e+02  3.135063e+01   \n",
       "max    6.161997e+06  1.340000e+02  1.606600e+04  1.303666e+02  4.442747e+01   \n",
       "\n",
       "             aoi_id      aoi_type  pickup_gps_lng  pickup_gps_lat  \\\n",
       "count  6.136147e+06  6.136147e+06    4.343285e+06    4.343285e+06   \n",
       "mean   1.215777e+04  5.043091e+00    1.183813e+02    3.257753e+01   \n",
       "std    7.131654e+03  5.848862e+00    5.792829e+00    3.865521e+00   \n",
       "min    0.000000e+00  0.000000e+00    1.025392e+02    1.999148e+01   \n",
       "25%    5.921000e+03  1.000000e+00    1.199407e+02    3.020180e+01   \n",
       "50%    1.217000e+04  1.000000e+00    1.202858e+02    3.094079e+01   \n",
       "75%    1.820100e+04  1.400000e+01    1.214115e+02    3.695500e+01   \n",
       "max    2.454300e+04  1.400000e+01    1.303508e+02    4.567432e+01   \n",
       "\n",
       "       accept_gps_lng  accept_gps_lat            ds  \n",
       "count    3.353776e+06    3.353776e+06  6.136147e+06  \n",
       "mean     1.185414e+02    3.270376e+01  7.803486e+02  \n",
       "std      5.705898e+00    3.930465e+00  1.661045e+02  \n",
       "min      1.025391e+02    2.000799e+01  5.010000e+02  \n",
       "25%      1.199479e+02    3.021873e+01  6.220000e+02  \n",
       "50%      1.203087e+02    3.101978e+01  8.040000e+02  \n",
       "75%      1.214257e+02    3.718493e+01  9.200000e+02  \n",
       "max      1.276731e+02    4.567428e+01  1.031000e+03  "
      ]
     },
     "execution_count": 7,
     "metadata": {},
     "output_type": "execute_result"
    }
   ],
   "source": [
    "merged_dataset.describe()"
   ]
  },
  {
   "cell_type": "code",
   "execution_count": 13,
   "id": "18ec37aa-2bc2-4ae0-bd16-73884ca80035",
   "metadata": {},
   "outputs": [
    {
     "data": {
      "text/plain": [
       "(6136147, 19)"
      ]
     },
     "execution_count": 13,
     "metadata": {},
     "output_type": "execute_result"
    }
   ],
   "source": [
    "merged_dataset.shape"
   ]
  },
  {
   "cell_type": "markdown",
   "id": "547b0cbd-a03c-4603-a380-267608b559e9",
   "metadata": {},
   "source": [
    "### Handle Missing and Inconsistent Values"
   ]
  },
  {
   "cell_type": "code",
   "execution_count": 15,
   "id": "676d7253-4fda-49ce-b311-7aab5c8793b6",
   "metadata": {},
   "outputs": [],
   "source": [
    "#1 Identify missing values using .isnull().sum() to assess data health.\n",
    "\n",
    "#2 Fill categorical data (aoi_type, city) with placeholders like \"Unknown\".\n",
    "\n",
    "#3 Replace missing numerical values like lng and lat with mean values as approximations.\n",
    "\n",
    "#4 Drop rows with critical missing data in columns such as accept_time and pickup_time."
   ]
  },
  {
   "cell_type": "code",
   "execution_count": 16,
   "id": "040ea087-ec50-4701-9d28-74051e9eff14",
   "metadata": {},
   "outputs": [],
   "source": [
    "#1 Identify missing values using .isnull().sum() to assess data health."
   ]
  },
  {
   "cell_type": "code",
   "execution_count": 17,
   "id": "27980ae3-ce22-4291-ba1e-ff3b4b4feacd",
   "metadata": {},
   "outputs": [
    {
     "data": {
      "text/plain": [
       "order_id                   0\n",
       "region_id                  0\n",
       "city                       0\n",
       "courier_id                 0\n",
       "accept_time                0\n",
       "time_window_start          0\n",
       "time_window_end            0\n",
       "lng                        0\n",
       "lat                        0\n",
       "aoi_id                     0\n",
       "aoi_type                   0\n",
       "pickup_time                0\n",
       "pickup_gps_time      1792862\n",
       "pickup_gps_lng       1792862\n",
       "pickup_gps_lat       1792862\n",
       "accept_gps_time      2782371\n",
       "accept_gps_lng       2782371\n",
       "accept_gps_lat       2782371\n",
       "ds                         0\n",
       "dtype: int64"
      ]
     },
     "execution_count": 17,
     "metadata": {},
     "output_type": "execute_result"
    }
   ],
   "source": [
    "merged_dataset.isnull().sum()"
   ]
  },
  {
   "cell_type": "code",
   "execution_count": 18,
   "id": "5c7ec96f-99ae-49e0-a9e7-313dfa6f7cdb",
   "metadata": {},
   "outputs": [],
   "source": [
    "#2 Fill categorical data (aoi_type, city) with placeholders like \"Unknown\"."
   ]
  },
  {
   "cell_type": "markdown",
   "id": "c22cc727-4e24-4300-85e0-7e34abd51bc5",
   "metadata": {},
   "source": [
    "##### There is no null values in aoi_type and city column."
   ]
  },
  {
   "cell_type": "code",
   "execution_count": 19,
   "id": "491a33c7-0d9f-4155-8f44-bc1e18858e18",
   "metadata": {},
   "outputs": [],
   "source": [
    "#3 Replace missing numerical values like lng and lat with mean values as approximations."
   ]
  },
  {
   "cell_type": "code",
   "execution_count": 20,
   "id": "abedd100-30b2-4eed-a5b9-1d6599c34e89",
   "metadata": {},
   "outputs": [],
   "source": [
    "merged_dataset[\"pickup_gps_lng\"] = merged_dataset.groupby(\"city\")[\"pickup_gps_lng\"].transform(lambda  x: x.fillna(x.mean()))\n",
    "merged_dataset[\"pickup_gps_lat\"] = merged_dataset.groupby(\"city\")[\"pickup_gps_lat\"].transform(lambda  x: x.fillna(x.mean()))\n",
    "merged_dataset[\"accept_gps_lng\"] = merged_dataset.groupby(\"city\")[\"accept_gps_lng\"].transform(lambda  x: x.fillna(x.mean()))\n",
    "merged_dataset[\"accept_gps_lat\"] = merged_dataset.groupby(\"city\")[\"accept_gps_lat\"].transform(lambda  x: x.fillna(x.mean()))\n"
   ]
  },
  {
   "cell_type": "code",
   "execution_count": 21,
   "id": "ec5d29ae-58fa-4700-80d5-a5a841738b3c",
   "metadata": {},
   "outputs": [
    {
     "data": {
      "text/plain": [
       "order_id                   0\n",
       "region_id                  0\n",
       "city                       0\n",
       "courier_id                 0\n",
       "accept_time                0\n",
       "time_window_start          0\n",
       "time_window_end            0\n",
       "lng                        0\n",
       "lat                        0\n",
       "aoi_id                     0\n",
       "aoi_type                   0\n",
       "pickup_time                0\n",
       "pickup_gps_time      1792862\n",
       "pickup_gps_lng             0\n",
       "pickup_gps_lat             0\n",
       "accept_gps_time      2782371\n",
       "accept_gps_lng             0\n",
       "accept_gps_lat             0\n",
       "ds                         0\n",
       "dtype: int64"
      ]
     },
     "execution_count": 21,
     "metadata": {},
     "output_type": "execute_result"
    }
   ],
   "source": [
    "merged_dataset.isnull().sum()"
   ]
  },
  {
   "cell_type": "code",
   "execution_count": 22,
   "id": "84517432-bcf7-4a45-9705-65bf8047cd91",
   "metadata": {},
   "outputs": [],
   "source": [
    "#4 Drop rows with critical missing data in columns such as accept_time and pickup_time."
   ]
  },
  {
   "cell_type": "markdown",
   "id": "6296e317-ec05-4db9-8b1e-8aa185faab62",
   "metadata": {},
   "source": [
    "##### Clearly, there was no null values in accept_time and pickup_time."
   ]
  },
  {
   "cell_type": "markdown",
   "id": "1aae99bf-5e99-4015-ad18-1d6ecf07be19",
   "metadata": {},
   "source": [
    "### Checking Duplicate Records"
   ]
  },
  {
   "cell_type": "code",
   "execution_count": 26,
   "id": "2140f12f-d7f5-4924-a1a1-e62e65813b87",
   "metadata": {},
   "outputs": [
    {
     "data": {
      "text/html": [
       "<div>\n",
       "<style scoped>\n",
       "    .dataframe tbody tr th:only-of-type {\n",
       "        vertical-align: middle;\n",
       "    }\n",
       "\n",
       "    .dataframe tbody tr th {\n",
       "        vertical-align: top;\n",
       "    }\n",
       "\n",
       "    .dataframe thead th {\n",
       "        text-align: right;\n",
       "    }\n",
       "</style>\n",
       "<table border=\"1\" class=\"dataframe\">\n",
       "  <thead>\n",
       "    <tr style=\"text-align: right;\">\n",
       "      <th></th>\n",
       "      <th>order_id</th>\n",
       "      <th>region_id</th>\n",
       "      <th>city</th>\n",
       "      <th>courier_id</th>\n",
       "      <th>accept_time</th>\n",
       "      <th>time_window_start</th>\n",
       "      <th>time_window_end</th>\n",
       "      <th>lng</th>\n",
       "      <th>lat</th>\n",
       "      <th>aoi_id</th>\n",
       "      <th>aoi_type</th>\n",
       "      <th>pickup_time</th>\n",
       "      <th>pickup_gps_time</th>\n",
       "      <th>pickup_gps_lng</th>\n",
       "      <th>pickup_gps_lat</th>\n",
       "      <th>accept_gps_time</th>\n",
       "      <th>accept_gps_lng</th>\n",
       "      <th>accept_gps_lat</th>\n",
       "      <th>ds</th>\n",
       "    </tr>\n",
       "  </thead>\n",
       "  <tbody>\n",
       "  </tbody>\n",
       "</table>\n",
       "</div>"
      ],
      "text/plain": [
       "Empty DataFrame\n",
       "Columns: [order_id, region_id, city, courier_id, accept_time, time_window_start, time_window_end, lng, lat, aoi_id, aoi_type, pickup_time, pickup_gps_time, pickup_gps_lng, pickup_gps_lat, accept_gps_time, accept_gps_lng, accept_gps_lat, ds]\n",
       "Index: []"
      ]
     },
     "execution_count": 26,
     "metadata": {},
     "output_type": "execute_result"
    }
   ],
   "source": [
    "merged_dataset[merged_dataset.duplicated()]\n",
    "#no duplicates found"
   ]
  },
  {
   "cell_type": "markdown",
   "id": "f3f3c1b5-ff86-4fb6-ad26-0fb8db3cd89f",
   "metadata": {},
   "source": [
    "### Convertion of Time Columns to Datetime Format"
   ]
  },
  {
   "cell_type": "code",
   "execution_count": 27,
   "id": "b019fd55-3829-4608-89ce-80615a41b12d",
   "metadata": {},
   "outputs": [],
   "source": [
    "merged_dataset['accept_time'] = pd.to_datetime('2024-' + merged_dataset['accept_time'], format='%Y-%m-%d %H:%M:%S', errors='coerce')\n",
    "merged_dataset['accept_gps_time'] = pd.to_datetime('2024-' + merged_dataset['accept_gps_time'], format='%Y-%m-%d %H:%M:%S', errors='coerce')\n",
    "merged_dataset['pickup_time'] = pd.to_datetime('2024-' + merged_dataset['pickup_time'], format='%Y-%m-%d %H:%M:%S', errors='coerce')\n",
    "merged_dataset['pickup_gps_time'] = pd.to_datetime('2024-' + merged_dataset['pickup_gps_time'], format='%Y-%m-%d %H:%M:%S', errors='coerce')\n",
    "\n",
    "merged_dataset['lat'] = pd.to_numeric(merged_dataset['lat'], errors='coerce')\n",
    "merged_dataset['lng'] = pd.to_numeric(merged_dataset['lng'], errors='coerce')\n",
    "\n",
    "merged_dataset['aoi_type'] = merged_dataset['aoi_type'].astype('category')"
   ]
  },
  {
   "cell_type": "code",
   "execution_count": 30,
   "id": "71756570-aff1-4bb5-8f2c-9ab784f792bd",
   "metadata": {},
   "outputs": [],
   "source": [
    "merged_dataset['time_window_start'] = pd.to_datetime('2024-' + merged_dataset['time_window_start'], format='%Y-%m-%d %H:%M:%S', errors='coerce')\n",
    "merged_dataset['time_window_end'] = pd.to_datetime('2024-' + merged_dataset['time_window_end'], format='%Y-%m-%d %H:%M:%S', errors='coerce')"
   ]
  },
  {
   "cell_type": "markdown",
   "id": "9840f482-0383-490e-a879-87c8dea6e2d0",
   "metadata": {},
   "source": [
    "### Derived Features:"
   ]
  },
  {
   "cell_type": "markdown",
   "id": "dd708948-1b52-4390-a789-a97b93916359",
   "metadata": {},
   "source": [
    "#### 1) Time Window Duration:"
   ]
  },
  {
   "cell_type": "code",
   "execution_count": 32,
   "id": "ed30f702-7af8-4654-a29b-2548b295f51d",
   "metadata": {},
   "outputs": [],
   "source": [
    "merged_dataset['time_window_duration'] = merged_dataset['time_window_end'] - merged_dataset['time_window_start']"
   ]
  },
  {
   "cell_type": "code",
   "execution_count": 33,
   "id": "dec87904-5730-4b50-910c-6ba0c577e448",
   "metadata": {},
   "outputs": [
    {
     "data": {
      "text/plain": [
       "count                      6136147\n",
       "mean     0 days 02:07:56.585068773\n",
       "std      0 days 01:31:09.687214997\n",
       "min                0 days 00:04:00\n",
       "25%                0 days 02:00:00\n",
       "50%                0 days 02:00:00\n",
       "75%                0 days 02:00:00\n",
       "max                1 days 06:59:00\n",
       "Name: time_window_duration, dtype: object"
      ]
     },
     "execution_count": 33,
     "metadata": {},
     "output_type": "execute_result"
    }
   ],
   "source": [
    "merged_dataset[\"time_window_duration\"].describe()"
   ]
  },
  {
   "cell_type": "code",
   "execution_count": 34,
   "id": "5c841600-58f4-42cc-8ecb-6df3c4f3c4b8",
   "metadata": {},
   "outputs": [
    {
     "data": {
      "text/html": [
       "<div>\n",
       "<style scoped>\n",
       "    .dataframe tbody tr th:only-of-type {\n",
       "        vertical-align: middle;\n",
       "    }\n",
       "\n",
       "    .dataframe tbody tr th {\n",
       "        vertical-align: top;\n",
       "    }\n",
       "\n",
       "    .dataframe thead th {\n",
       "        text-align: right;\n",
       "    }\n",
       "</style>\n",
       "<table border=\"1\" class=\"dataframe\">\n",
       "  <thead>\n",
       "    <tr style=\"text-align: right;\">\n",
       "      <th></th>\n",
       "      <th>time_window_start</th>\n",
       "      <th>time_window_end</th>\n",
       "      <th>time_window_duration</th>\n",
       "    </tr>\n",
       "  </thead>\n",
       "  <tbody>\n",
       "    <tr>\n",
       "      <th>0</th>\n",
       "      <td>2024-08-14 09:00:00</td>\n",
       "      <td>2024-08-14 11:00:00</td>\n",
       "      <td>0 days 02:00:00</td>\n",
       "    </tr>\n",
       "    <tr>\n",
       "      <th>1</th>\n",
       "      <td>2024-10-09 09:00:00</td>\n",
       "      <td>2024-10-09 11:00:00</td>\n",
       "      <td>0 days 02:00:00</td>\n",
       "    </tr>\n",
       "    <tr>\n",
       "      <th>2</th>\n",
       "      <td>2024-10-09 13:57:00</td>\n",
       "      <td>2024-10-09 15:57:00</td>\n",
       "      <td>0 days 02:00:00</td>\n",
       "    </tr>\n",
       "    <tr>\n",
       "      <th>3</th>\n",
       "      <td>2024-05-19 11:00:00</td>\n",
       "      <td>2024-05-19 13:00:00</td>\n",
       "      <td>0 days 02:00:00</td>\n",
       "    </tr>\n",
       "    <tr>\n",
       "      <th>4</th>\n",
       "      <td>2024-05-22 09:00:00</td>\n",
       "      <td>2024-05-22 11:00:00</td>\n",
       "      <td>0 days 02:00:00</td>\n",
       "    </tr>\n",
       "  </tbody>\n",
       "</table>\n",
       "</div>"
      ],
      "text/plain": [
       "    time_window_start     time_window_end time_window_duration\n",
       "0 2024-08-14 09:00:00 2024-08-14 11:00:00      0 days 02:00:00\n",
       "1 2024-10-09 09:00:00 2024-10-09 11:00:00      0 days 02:00:00\n",
       "2 2024-10-09 13:57:00 2024-10-09 15:57:00      0 days 02:00:00\n",
       "3 2024-05-19 11:00:00 2024-05-19 13:00:00      0 days 02:00:00\n",
       "4 2024-05-22 09:00:00 2024-05-22 11:00:00      0 days 02:00:00"
      ]
     },
     "execution_count": 34,
     "metadata": {},
     "output_type": "execute_result"
    }
   ],
   "source": [
    "merged_dataset[['time_window_start', 'time_window_end', 'time_window_duration']].head()\n"
   ]
  },
  {
   "cell_type": "markdown",
   "id": "122b51c7-591a-4196-a228-e78ab7aa7959",
   "metadata": {},
   "source": [
    "#### 2) Task Duration:"
   ]
  },
  {
   "cell_type": "code",
   "execution_count": 35,
   "id": "ffac0976-a4fd-4b82-a6d5-5ad66d7653da",
   "metadata": {},
   "outputs": [],
   "source": [
    "merged_dataset['task_duration'] = merged_dataset['pickup_time'] - merged_dataset['accept_time']"
   ]
  },
  {
   "cell_type": "code",
   "execution_count": 38,
   "id": "9853cb8e-18df-43d9-9a63-64023527bc22",
   "metadata": {},
   "outputs": [
    {
     "data": {
      "text/plain": [
       "count                      6136147\n",
       "mean     0 days 03:41:34.258113438\n",
       "std      0 days 06:58:21.749930310\n",
       "min                0 days 00:00:00\n",
       "25%                0 days 01:04:00\n",
       "50%                0 days 01:58:00\n",
       "75%                0 days 03:17:00\n",
       "max               38 days 02:19:00\n",
       "Name: task_duration, dtype: object"
      ]
     },
     "execution_count": 38,
     "metadata": {},
     "output_type": "execute_result"
    }
   ],
   "source": [
    "merged_dataset[\"task_duration\"].describe()"
   ]
  },
  {
   "cell_type": "code",
   "execution_count": 36,
   "id": "c4efd167-85ce-4821-aff2-2bb35717b81b",
   "metadata": {},
   "outputs": [
    {
     "data": {
      "text/html": [
       "<div>\n",
       "<style scoped>\n",
       "    .dataframe tbody tr th:only-of-type {\n",
       "        vertical-align: middle;\n",
       "    }\n",
       "\n",
       "    .dataframe tbody tr th {\n",
       "        vertical-align: top;\n",
       "    }\n",
       "\n",
       "    .dataframe thead th {\n",
       "        text-align: right;\n",
       "    }\n",
       "</style>\n",
       "<table border=\"1\" class=\"dataframe\">\n",
       "  <thead>\n",
       "    <tr style=\"text-align: right;\">\n",
       "      <th></th>\n",
       "      <th>accept_time</th>\n",
       "      <th>pickup_time</th>\n",
       "      <th>task_duration</th>\n",
       "    </tr>\n",
       "  </thead>\n",
       "  <tbody>\n",
       "    <tr>\n",
       "      <th>0</th>\n",
       "      <td>2024-08-14 07:57:00</td>\n",
       "      <td>2024-08-14 09:38:00</td>\n",
       "      <td>0 days 01:41:00</td>\n",
       "    </tr>\n",
       "    <tr>\n",
       "      <th>1</th>\n",
       "      <td>2024-10-09 07:46:00</td>\n",
       "      <td>2024-10-09 09:42:00</td>\n",
       "      <td>0 days 01:56:00</td>\n",
       "    </tr>\n",
       "    <tr>\n",
       "      <th>2</th>\n",
       "      <td>2024-10-09 13:57:00</td>\n",
       "      <td>2024-10-09 15:53:00</td>\n",
       "      <td>0 days 01:56:00</td>\n",
       "    </tr>\n",
       "    <tr>\n",
       "      <th>3</th>\n",
       "      <td>2024-05-19 08:13:00</td>\n",
       "      <td>2024-05-19 11:59:00</td>\n",
       "      <td>0 days 03:46:00</td>\n",
       "    </tr>\n",
       "    <tr>\n",
       "      <th>4</th>\n",
       "      <td>2024-05-22 08:16:00</td>\n",
       "      <td>2024-05-22 10:40:00</td>\n",
       "      <td>0 days 02:24:00</td>\n",
       "    </tr>\n",
       "  </tbody>\n",
       "</table>\n",
       "</div>"
      ],
      "text/plain": [
       "          accept_time         pickup_time   task_duration\n",
       "0 2024-08-14 07:57:00 2024-08-14 09:38:00 0 days 01:41:00\n",
       "1 2024-10-09 07:46:00 2024-10-09 09:42:00 0 days 01:56:00\n",
       "2 2024-10-09 13:57:00 2024-10-09 15:53:00 0 days 01:56:00\n",
       "3 2024-05-19 08:13:00 2024-05-19 11:59:00 0 days 03:46:00\n",
       "4 2024-05-22 08:16:00 2024-05-22 10:40:00 0 days 02:24:00"
      ]
     },
     "execution_count": 36,
     "metadata": {},
     "output_type": "execute_result"
    }
   ],
   "source": [
    "merged_dataset[['accept_time', 'pickup_time', 'task_duration']].head()"
   ]
  },
  {
   "cell_type": "markdown",
   "id": "70de83e5-4e81-42a6-a943-c8ea8528db7d",
   "metadata": {},
   "source": [
    "#### 3) Distance Between Acceptance and Pickup:"
   ]
  },
  {
   "cell_type": "code",
   "execution_count": 39,
   "id": "731b50ec-5fcc-479f-89d9-3d5a254a314b",
   "metadata": {},
   "outputs": [],
   "source": [
    "merged_dataset['distance'] = np.sqrt((merged_dataset['pickup_gps_lng'] - merged_dataset['accept_gps_lng'])**2 +\n",
    "                         (merged_dataset['pickup_gps_lat'] - merged_dataset['accept_gps_lat'])**2)"
   ]
  },
  {
   "cell_type": "code",
   "execution_count": 40,
   "id": "396bc19c-7450-4a00-bd65-5efeb6491cc8",
   "metadata": {},
   "outputs": [
    {
     "data": {
      "text/html": [
       "<div>\n",
       "<style scoped>\n",
       "    .dataframe tbody tr th:only-of-type {\n",
       "        vertical-align: middle;\n",
       "    }\n",
       "\n",
       "    .dataframe tbody tr th {\n",
       "        vertical-align: top;\n",
       "    }\n",
       "\n",
       "    .dataframe thead th {\n",
       "        text-align: right;\n",
       "    }\n",
       "</style>\n",
       "<table border=\"1\" class=\"dataframe\">\n",
       "  <thead>\n",
       "    <tr style=\"text-align: right;\">\n",
       "      <th></th>\n",
       "      <th>pickup_gps_lng</th>\n",
       "      <th>accept_gps_lng</th>\n",
       "      <th>pickup_gps_lat</th>\n",
       "      <th>accept_gps_lat</th>\n",
       "      <th>distance</th>\n",
       "    </tr>\n",
       "  </thead>\n",
       "  <tbody>\n",
       "    <tr>\n",
       "      <th>342157</th>\n",
       "      <td>107.114140</td>\n",
       "      <td>107.104000</td>\n",
       "      <td>29.145410</td>\n",
       "      <td>29.146720</td>\n",
       "      <td>0.010224</td>\n",
       "    </tr>\n",
       "    <tr>\n",
       "      <th>4205848</th>\n",
       "      <td>121.259180</td>\n",
       "      <td>121.269000</td>\n",
       "      <td>31.176330</td>\n",
       "      <td>31.174430</td>\n",
       "      <td>0.010002</td>\n",
       "    </tr>\n",
       "    <tr>\n",
       "      <th>1881466</th>\n",
       "      <td>120.281340</td>\n",
       "      <td>120.279840</td>\n",
       "      <td>30.435100</td>\n",
       "      <td>30.435900</td>\n",
       "      <td>0.001700</td>\n",
       "    </tr>\n",
       "    <tr>\n",
       "      <th>4681367</th>\n",
       "      <td>121.408240</td>\n",
       "      <td>121.399200</td>\n",
       "      <td>31.244340</td>\n",
       "      <td>31.242330</td>\n",
       "      <td>0.009261</td>\n",
       "    </tr>\n",
       "    <tr>\n",
       "      <th>3429565</th>\n",
       "      <td>126.551850</td>\n",
       "      <td>126.569189</td>\n",
       "      <td>43.811760</td>\n",
       "      <td>43.742607</td>\n",
       "      <td>0.071294</td>\n",
       "    </tr>\n",
       "    <tr>\n",
       "      <th>823532</th>\n",
       "      <td>106.474490</td>\n",
       "      <td>106.478650</td>\n",
       "      <td>29.467410</td>\n",
       "      <td>29.444600</td>\n",
       "      <td>0.023186</td>\n",
       "    </tr>\n",
       "    <tr>\n",
       "      <th>3896222</th>\n",
       "      <td>121.595300</td>\n",
       "      <td>121.595630</td>\n",
       "      <td>31.281900</td>\n",
       "      <td>31.281530</td>\n",
       "      <td>0.000496</td>\n",
       "    </tr>\n",
       "    <tr>\n",
       "      <th>2974646</th>\n",
       "      <td>120.171990</td>\n",
       "      <td>120.112550</td>\n",
       "      <td>30.379450</td>\n",
       "      <td>30.257184</td>\n",
       "      <td>0.135949</td>\n",
       "    </tr>\n",
       "    <tr>\n",
       "      <th>3252374</th>\n",
       "      <td>120.111544</td>\n",
       "      <td>120.112550</td>\n",
       "      <td>30.257508</td>\n",
       "      <td>30.257184</td>\n",
       "      <td>0.001057</td>\n",
       "    </tr>\n",
       "    <tr>\n",
       "      <th>3532030</th>\n",
       "      <td>126.574980</td>\n",
       "      <td>126.578150</td>\n",
       "      <td>43.828480</td>\n",
       "      <td>43.829280</td>\n",
       "      <td>0.003269</td>\n",
       "    </tr>\n",
       "  </tbody>\n",
       "</table>\n",
       "</div>"
      ],
      "text/plain": [
       "         pickup_gps_lng  accept_gps_lng  pickup_gps_lat  accept_gps_lat  \\\n",
       "342157       107.114140      107.104000       29.145410       29.146720   \n",
       "4205848      121.259180      121.269000       31.176330       31.174430   \n",
       "1881466      120.281340      120.279840       30.435100       30.435900   \n",
       "4681367      121.408240      121.399200       31.244340       31.242330   \n",
       "3429565      126.551850      126.569189       43.811760       43.742607   \n",
       "823532       106.474490      106.478650       29.467410       29.444600   \n",
       "3896222      121.595300      121.595630       31.281900       31.281530   \n",
       "2974646      120.171990      120.112550       30.379450       30.257184   \n",
       "3252374      120.111544      120.112550       30.257508       30.257184   \n",
       "3532030      126.574980      126.578150       43.828480       43.829280   \n",
       "\n",
       "         distance  \n",
       "342157   0.010224  \n",
       "4205848  0.010002  \n",
       "1881466  0.001700  \n",
       "4681367  0.009261  \n",
       "3429565  0.071294  \n",
       "823532   0.023186  \n",
       "3896222  0.000496  \n",
       "2974646  0.135949  \n",
       "3252374  0.001057  \n",
       "3532030  0.003269  "
      ]
     },
     "execution_count": 40,
     "metadata": {},
     "output_type": "execute_result"
    }
   ],
   "source": [
    "df[['pickup_gps_lng', 'accept_gps_lng', 'pickup_gps_lat', 'accept_gps_lat', 'distance']].sample(10)"
   ]
  },
  {
   "cell_type": "markdown",
   "id": "f85fb421-20cd-49f5-bc02-5b49fd013c2f",
   "metadata": {},
   "source": [
    "### Outlier Detection\n"
   ]
  },
  {
   "cell_type": "markdown",
   "id": "769bd9eb-6102-4c32-9170-c37ac152a5bb",
   "metadata": {},
   "source": [
    "#### Detecting Outliers in the task_duration column for abnormalities."
   ]
  },
  {
   "cell_type": "markdown",
   "id": "84a52908-37b9-423c-af65-6b3725b17352",
   "metadata": {},
   "source": [
    "##### Using Inter-Quartile Range(IQR)."
   ]
  },
  {
   "cell_type": "code",
   "execution_count": 45,
   "id": "bc77432d-153c-4d59-a576-aeb3c1091ad9",
   "metadata": {},
   "outputs": [],
   "source": [
    "Q1=merged_dataset[\"task_duration\"].quantile(0.25)\n",
    "Q3=merged_dataset[\"task_duration\"].quantile(0.75)\n",
    "\n",
    "IQR=Q3 - Q1\n",
    "\n",
    "Lower_Bound=Q1-IQR*1.5\n",
    "Upper_Bound=Q3+IQR*1.5\n",
    "\n",
    "merged_dataset=merged_dataset[ (merged_dataset[\"task_duration\"]> Lower_Bound) & (merged_dataset[\"task_duration\"]< Upper_Bound) ]"
   ]
  },
  {
   "cell_type": "code",
   "execution_count": 47,
   "id": "26378239-0650-43a3-9e1a-90bfce93dc59",
   "metadata": {},
   "outputs": [
    {
     "data": {
      "text/plain": [
       "count                      5460748\n",
       "mean     0 days 02:00:41.967876928\n",
       "std      0 days 01:23:59.708834992\n",
       "min                0 days 00:00:00\n",
       "25%                0 days 00:58:00\n",
       "50%                0 days 01:46:00\n",
       "75%                0 days 02:42:00\n",
       "max                0 days 06:36:00\n",
       "Name: task_duration, dtype: object"
      ]
     },
     "execution_count": 47,
     "metadata": {},
     "output_type": "execute_result"
    }
   ],
   "source": [
    "merged_dataset[\"task_duration\"].describe()"
   ]
  },
  {
   "cell_type": "markdown",
   "id": "73c06611-c7dd-427c-90e6-7727b51f2276",
   "metadata": {},
   "source": [
    "### Final Output"
   ]
  },
  {
   "cell_type": "code",
   "execution_count": 52,
   "id": "163dcdc4-15ca-45f3-8f8a-22a49e0ce891",
   "metadata": {},
   "outputs": [],
   "source": [
    "merged_dataset.to_csv(r\"E:\\DATA ANALYTICS\\Internship\\Technocolabs\\Gologistics\\Pickup Five Cities Datasets\\Pickup Five Cities Datasets\\pickup_data_preprocessed.csv\", index=False)"
   ]
  },
  {
   "cell_type": "code",
   "execution_count": null,
   "id": "cbf60391-5fc2-4c57-a548-39a3a9df8c76",
   "metadata": {},
   "outputs": [],
   "source": []
  }
 ],
 "metadata": {
  "kernelspec": {
   "display_name": "Python 3 (ipykernel)",
   "language": "python",
   "name": "python3"
  },
  "language_info": {
   "codemirror_mode": {
    "name": "ipython",
    "version": 3
   },
   "file_extension": ".py",
   "mimetype": "text/x-python",
   "name": "python",
   "nbconvert_exporter": "python",
   "pygments_lexer": "ipython3",
   "version": "3.13.1"
  }
 },
 "nbformat": 4,
 "nbformat_minor": 5
}
