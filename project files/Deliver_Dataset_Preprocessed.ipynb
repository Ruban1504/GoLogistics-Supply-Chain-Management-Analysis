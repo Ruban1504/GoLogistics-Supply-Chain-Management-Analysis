{
 "cells": [
  {
   "cell_type": "markdown",
   "id": "03b85205-0e53-4aa2-9790-6a20d6842214",
   "metadata": {},
   "source": [
    "# DATA PREPROCESSING"
   ]
  },
  {
   "cell_type": "markdown",
   "id": "f03733ed-5363-4d6a-b36c-f85f25f55a18",
   "metadata": {},
   "source": [
    "## Delivery Dataset Preprocessing\n"
   ]
  },
  {
   "cell_type": "code",
   "execution_count": 116,
   "id": "80e63487",
   "metadata": {},
   "outputs": [],
   "source": [
    "import pandas as pd\n",
    "import numpy as np\n",
    "from sklearn.preprocessing import OneHotEncoder \n",
    "from scipy.stats import zscore"
   ]
  },
  {
   "cell_type": "code",
   "execution_count": 117,
   "id": "62063b73",
   "metadata": {},
   "outputs": [],
   "source": [
    "#Load datasets\n",
    "\n",
    "df1_city=pd.read_csv(r\"E:\\DATA ANALYTICS\\Internship\\Technocolabs\\Gologistics\\Delivery Five Cities Datasets\\Delivery Five Cities Datasets\\delivery_cq.csv\",parse_dates=['delivery_time'],date_format='%d-%m-%Y %H:%M:%S')\n",
    "df2_city=pd.read_csv(r\"E:\\DATA ANALYTICS\\Internship\\Technocolabs\\Gologistics\\Delivery Five Cities Datasets\\Delivery Five Cities Datasets\\delivery_delivery_jl.csv\",parse_dates=['delivery_time'],date_format='%d-%m-%Y %H:%M:%S')\n",
    "df3_city=pd.read_csv(r\"E:\\DATA ANALYTICS\\Internship\\Technocolabs\\Gologistics\\Delivery Five Cities Datasets\\Delivery Five Cities Datasets\\delivery_hz.csv\",parse_dates=['delivery_time'],date_format='%d-%m-%Y %H:%M:%S')\n",
    "df4_city=pd.read_csv(r\"E:\\DATA ANALYTICS\\Internship\\Technocolabs\\Gologistics\\Delivery Five Cities Datasets\\Delivery Five Cities Datasets\\delivery_sh.csv\",parse_dates=['delivery_time'],date_format='%d-%m-%Y %H:%M:%S')\n",
    "df5_city=pd.read_csv(r\"E:\\DATA ANALYTICS\\Internship\\Technocolabs\\Gologistics\\Delivery Five Cities Datasets\\Delivery Five Cities Datasets\\delivery_yt.csv\",parse_dates=['delivery_time'],date_format='%d-%m-%Y %H:%M:%S')\n"
   ]
  },
  {
   "cell_type": "code",
   "execution_count": 118,
   "id": "7090d071",
   "metadata": {},
   "outputs": [],
   "source": [
    "#df1_city"
   ]
  },
  {
   "cell_type": "code",
   "execution_count": 119,
   "id": "00d38538",
   "metadata": {},
   "outputs": [],
   "source": [
    "#merging the datasets.\n",
    "merged_dataset=pd.concat([df1_city,df2_city,df3_city,df4_city,df5_city],ignore_index=True)"
   ]
  },
  {
   "cell_type": "code",
   "execution_count": 120,
   "id": "65a1a4b5",
   "metadata": {
    "scrolled": true
   },
   "outputs": [
    {
     "data": {
      "text/html": [
       "<div>\n",
       "<style scoped>\n",
       "    .dataframe tbody tr th:only-of-type {\n",
       "        vertical-align: middle;\n",
       "    }\n",
       "\n",
       "    .dataframe tbody tr th {\n",
       "        vertical-align: top;\n",
       "    }\n",
       "\n",
       "    .dataframe thead th {\n",
       "        text-align: right;\n",
       "    }\n",
       "</style>\n",
       "<table border=\"1\" class=\"dataframe\">\n",
       "  <thead>\n",
       "    <tr style=\"text-align: right;\">\n",
       "      <th></th>\n",
       "      <th>order_id</th>\n",
       "      <th>region_id</th>\n",
       "      <th>city</th>\n",
       "      <th>courier_id</th>\n",
       "      <th>lng</th>\n",
       "      <th>lat</th>\n",
       "      <th>aoi_id</th>\n",
       "      <th>aoi_type</th>\n",
       "      <th>accept_time</th>\n",
       "      <th>accept_gps_time</th>\n",
       "      <th>accept_gps_lng</th>\n",
       "      <th>accept_gps_lat</th>\n",
       "      <th>delivery_time</th>\n",
       "      <th>delivery_gps_time</th>\n",
       "      <th>delivery_gps_lng</th>\n",
       "      <th>delivery_gps_lat</th>\n",
       "      <th>ds</th>\n",
       "    </tr>\n",
       "  </thead>\n",
       "  <tbody>\n",
       "    <tr>\n",
       "      <th>0</th>\n",
       "      <td>2031782</td>\n",
       "      <td>10</td>\n",
       "      <td>Chongqing</td>\n",
       "      <td>73</td>\n",
       "      <td>108.71571</td>\n",
       "      <td>30.90228</td>\n",
       "      <td>50</td>\n",
       "      <td>14</td>\n",
       "      <td>10-22 10:26:00</td>\n",
       "      <td>10-22 10:26:00</td>\n",
       "      <td>108.71826</td>\n",
       "      <td>30.95587</td>\n",
       "      <td>10-22 17:04:00</td>\n",
       "      <td>10-22 17:04:00</td>\n",
       "      <td>108.66361</td>\n",
       "      <td>30.96702</td>\n",
       "      <td>1022</td>\n",
       "    </tr>\n",
       "    <tr>\n",
       "      <th>1</th>\n",
       "      <td>4285071</td>\n",
       "      <td>10</td>\n",
       "      <td>Chongqing</td>\n",
       "      <td>3605</td>\n",
       "      <td>108.71639</td>\n",
       "      <td>30.90269</td>\n",
       "      <td>50</td>\n",
       "      <td>14</td>\n",
       "      <td>09-07 10:13:00</td>\n",
       "      <td>09-07 10:13:00</td>\n",
       "      <td>108.71791</td>\n",
       "      <td>30.95635</td>\n",
       "      <td>09-09 15:44:00</td>\n",
       "      <td>09-09 15:44:00</td>\n",
       "      <td>108.71644</td>\n",
       "      <td>30.90266</td>\n",
       "      <td>907</td>\n",
       "    </tr>\n",
       "    <tr>\n",
       "      <th>2</th>\n",
       "      <td>4056800</td>\n",
       "      <td>10</td>\n",
       "      <td>Chongqing</td>\n",
       "      <td>3605</td>\n",
       "      <td>108.71645</td>\n",
       "      <td>30.90259</td>\n",
       "      <td>50</td>\n",
       "      <td>14</td>\n",
       "      <td>06-26 09:49:00</td>\n",
       "      <td>06-26 09:49:00</td>\n",
       "      <td>108.71798</td>\n",
       "      <td>30.95635</td>\n",
       "      <td>06-27 16:03:00</td>\n",
       "      <td>06-27 16:03:00</td>\n",
       "      <td>108.71647</td>\n",
       "      <td>30.90251</td>\n",
       "      <td>626</td>\n",
       "    </tr>\n",
       "    <tr>\n",
       "      <th>3</th>\n",
       "      <td>3589481</td>\n",
       "      <td>10</td>\n",
       "      <td>Chongqing</td>\n",
       "      <td>3605</td>\n",
       "      <td>108.71650</td>\n",
       "      <td>30.90347</td>\n",
       "      <td>50</td>\n",
       "      <td>14</td>\n",
       "      <td>09-11 11:01:00</td>\n",
       "      <td>09-11 11:01:00</td>\n",
       "      <td>108.71823</td>\n",
       "      <td>30.95596</td>\n",
       "      <td>09-13 17:14:00</td>\n",
       "      <td>09-13 17:14:00</td>\n",
       "      <td>108.71650</td>\n",
       "      <td>30.90341</td>\n",
       "      <td>911</td>\n",
       "    </tr>\n",
       "    <tr>\n",
       "      <th>4</th>\n",
       "      <td>2752329</td>\n",
       "      <td>10</td>\n",
       "      <td>Chongqing</td>\n",
       "      <td>3605</td>\n",
       "      <td>108.71608</td>\n",
       "      <td>30.90409</td>\n",
       "      <td>50</td>\n",
       "      <td>14</td>\n",
       "      <td>10-01 09:52:00</td>\n",
       "      <td>10-01 09:52:00</td>\n",
       "      <td>108.71820</td>\n",
       "      <td>30.95598</td>\n",
       "      <td>10-01 18:30:00</td>\n",
       "      <td>10-01 18:30:00</td>\n",
       "      <td>108.71413</td>\n",
       "      <td>30.90397</td>\n",
       "      <td>1001</td>\n",
       "    </tr>\n",
       "    <tr>\n",
       "      <th>...</th>\n",
       "      <td>...</td>\n",
       "      <td>...</td>\n",
       "      <td>...</td>\n",
       "      <td>...</td>\n",
       "      <td>...</td>\n",
       "      <td>...</td>\n",
       "      <td>...</td>\n",
       "      <td>...</td>\n",
       "      <td>...</td>\n",
       "      <td>...</td>\n",
       "      <td>...</td>\n",
       "      <td>...</td>\n",
       "      <td>...</td>\n",
       "      <td>...</td>\n",
       "      <td>...</td>\n",
       "      <td>...</td>\n",
       "      <td>...</td>\n",
       "    </tr>\n",
       "    <tr>\n",
       "      <th>4514656</th>\n",
       "      <td>2512759</td>\n",
       "      <td>167</td>\n",
       "      <td>Yantai</td>\n",
       "      <td>1571</td>\n",
       "      <td>121.19537</td>\n",
       "      <td>36.78027</td>\n",
       "      <td>60137</td>\n",
       "      <td>1</td>\n",
       "      <td>07-03 15:14:00</td>\n",
       "      <td>07-03 15:14:00</td>\n",
       "      <td>121.20571</td>\n",
       "      <td>36.76358</td>\n",
       "      <td>07-03 17:33:00</td>\n",
       "      <td>07-03 17:33:00</td>\n",
       "      <td>121.19512</td>\n",
       "      <td>36.78016</td>\n",
       "      <td>703</td>\n",
       "    </tr>\n",
       "    <tr>\n",
       "      <th>4514657</th>\n",
       "      <td>3779171</td>\n",
       "      <td>167</td>\n",
       "      <td>Yantai</td>\n",
       "      <td>1571</td>\n",
       "      <td>121.19646</td>\n",
       "      <td>36.78103</td>\n",
       "      <td>60137</td>\n",
       "      <td>1</td>\n",
       "      <td>05-24 10:06:00</td>\n",
       "      <td>05-24 10:06:00</td>\n",
       "      <td>121.20567</td>\n",
       "      <td>36.76358</td>\n",
       "      <td>05-24 15:12:00</td>\n",
       "      <td>05-24 15:12:00</td>\n",
       "      <td>121.19635</td>\n",
       "      <td>36.78090</td>\n",
       "      <td>524</td>\n",
       "    </tr>\n",
       "    <tr>\n",
       "      <th>4514658</th>\n",
       "      <td>4198558</td>\n",
       "      <td>167</td>\n",
       "      <td>Yantai</td>\n",
       "      <td>3402</td>\n",
       "      <td>121.19515</td>\n",
       "      <td>36.78057</td>\n",
       "      <td>60137</td>\n",
       "      <td>1</td>\n",
       "      <td>05-01 15:13:00</td>\n",
       "      <td>05-01 15:13:00</td>\n",
       "      <td>121.20555</td>\n",
       "      <td>36.76358</td>\n",
       "      <td>05-01 16:06:00</td>\n",
       "      <td>05-01 16:06:00</td>\n",
       "      <td>121.19567</td>\n",
       "      <td>36.78372</td>\n",
       "      <td>501</td>\n",
       "    </tr>\n",
       "    <tr>\n",
       "      <th>4514659</th>\n",
       "      <td>1805034</td>\n",
       "      <td>167</td>\n",
       "      <td>Yantai</td>\n",
       "      <td>3402</td>\n",
       "      <td>121.19631</td>\n",
       "      <td>36.78100</td>\n",
       "      <td>60137</td>\n",
       "      <td>1</td>\n",
       "      <td>05-05 09:22:00</td>\n",
       "      <td>05-05 09:22:00</td>\n",
       "      <td>121.20561</td>\n",
       "      <td>36.76357</td>\n",
       "      <td>05-05 17:24:00</td>\n",
       "      <td>05-05 17:24:00</td>\n",
       "      <td>121.19639</td>\n",
       "      <td>36.78082</td>\n",
       "      <td>505</td>\n",
       "    </tr>\n",
       "    <tr>\n",
       "      <th>4514660</th>\n",
       "      <td>2801941</td>\n",
       "      <td>167</td>\n",
       "      <td>Yantai</td>\n",
       "      <td>4314</td>\n",
       "      <td>121.19632</td>\n",
       "      <td>36.78072</td>\n",
       "      <td>60137</td>\n",
       "      <td>1</td>\n",
       "      <td>08-08 09:54:00</td>\n",
       "      <td>08-08 09:54:00</td>\n",
       "      <td>121.20551</td>\n",
       "      <td>36.76350</td>\n",
       "      <td>08-08 14:59:00</td>\n",
       "      <td>08-08 14:59:00</td>\n",
       "      <td>121.20007</td>\n",
       "      <td>36.77130</td>\n",
       "      <td>808</td>\n",
       "    </tr>\n",
       "  </tbody>\n",
       "</table>\n",
       "<p>4514661 rows × 17 columns</p>\n",
       "</div>"
      ],
      "text/plain": [
       "         order_id  region_id       city  courier_id        lng       lat  \\\n",
       "0         2031782         10  Chongqing          73  108.71571  30.90228   \n",
       "1         4285071         10  Chongqing        3605  108.71639  30.90269   \n",
       "2         4056800         10  Chongqing        3605  108.71645  30.90259   \n",
       "3         3589481         10  Chongqing        3605  108.71650  30.90347   \n",
       "4         2752329         10  Chongqing        3605  108.71608  30.90409   \n",
       "...           ...        ...        ...         ...        ...       ...   \n",
       "4514656   2512759        167     Yantai        1571  121.19537  36.78027   \n",
       "4514657   3779171        167     Yantai        1571  121.19646  36.78103   \n",
       "4514658   4198558        167     Yantai        3402  121.19515  36.78057   \n",
       "4514659   1805034        167     Yantai        3402  121.19631  36.78100   \n",
       "4514660   2801941        167     Yantai        4314  121.19632  36.78072   \n",
       "\n",
       "         aoi_id  aoi_type     accept_time accept_gps_time  accept_gps_lng  \\\n",
       "0            50        14  10-22 10:26:00  10-22 10:26:00       108.71826   \n",
       "1            50        14  09-07 10:13:00  09-07 10:13:00       108.71791   \n",
       "2            50        14  06-26 09:49:00  06-26 09:49:00       108.71798   \n",
       "3            50        14  09-11 11:01:00  09-11 11:01:00       108.71823   \n",
       "4            50        14  10-01 09:52:00  10-01 09:52:00       108.71820   \n",
       "...         ...       ...             ...             ...             ...   \n",
       "4514656   60137         1  07-03 15:14:00  07-03 15:14:00       121.20571   \n",
       "4514657   60137         1  05-24 10:06:00  05-24 10:06:00       121.20567   \n",
       "4514658   60137         1  05-01 15:13:00  05-01 15:13:00       121.20555   \n",
       "4514659   60137         1  05-05 09:22:00  05-05 09:22:00       121.20561   \n",
       "4514660   60137         1  08-08 09:54:00  08-08 09:54:00       121.20551   \n",
       "\n",
       "         accept_gps_lat   delivery_time delivery_gps_time  delivery_gps_lng  \\\n",
       "0              30.95587  10-22 17:04:00    10-22 17:04:00         108.66361   \n",
       "1              30.95635  09-09 15:44:00    09-09 15:44:00         108.71644   \n",
       "2              30.95635  06-27 16:03:00    06-27 16:03:00         108.71647   \n",
       "3              30.95596  09-13 17:14:00    09-13 17:14:00         108.71650   \n",
       "4              30.95598  10-01 18:30:00    10-01 18:30:00         108.71413   \n",
       "...                 ...             ...               ...               ...   \n",
       "4514656        36.76358  07-03 17:33:00    07-03 17:33:00         121.19512   \n",
       "4514657        36.76358  05-24 15:12:00    05-24 15:12:00         121.19635   \n",
       "4514658        36.76358  05-01 16:06:00    05-01 16:06:00         121.19567   \n",
       "4514659        36.76357  05-05 17:24:00    05-05 17:24:00         121.19639   \n",
       "4514660        36.76350  08-08 14:59:00    08-08 14:59:00         121.20007   \n",
       "\n",
       "         delivery_gps_lat    ds  \n",
       "0                30.96702  1022  \n",
       "1                30.90266   907  \n",
       "2                30.90251   626  \n",
       "3                30.90341   911  \n",
       "4                30.90397  1001  \n",
       "...                   ...   ...  \n",
       "4514656          36.78016   703  \n",
       "4514657          36.78090   524  \n",
       "4514658          36.78372   501  \n",
       "4514659          36.78082   505  \n",
       "4514660          36.77130   808  \n",
       "\n",
       "[4514661 rows x 17 columns]"
      ]
     },
     "execution_count": 120,
     "metadata": {},
     "output_type": "execute_result"
    }
   ],
   "source": [
    "merged_dataset"
   ]
  },
  {
   "cell_type": "code",
   "execution_count": 121,
   "id": "3406aa19",
   "metadata": {},
   "outputs": [],
   "source": [
    "#raw file.\n",
    "#merged_dataset.to_csv(r\"E:\\DATA ANALYTICS\\Internship\\Technocolabs\\Gologistics\\raw_data_2.csv\",index=False)"
   ]
  },
  {
   "cell_type": "code",
   "execution_count": 122,
   "id": "8ff133d0",
   "metadata": {},
   "outputs": [
    {
     "data": {
      "text/html": [
       "<div>\n",
       "<style scoped>\n",
       "    .dataframe tbody tr th:only-of-type {\n",
       "        vertical-align: middle;\n",
       "    }\n",
       "\n",
       "    .dataframe tbody tr th {\n",
       "        vertical-align: top;\n",
       "    }\n",
       "\n",
       "    .dataframe thead th {\n",
       "        text-align: right;\n",
       "    }\n",
       "</style>\n",
       "<table border=\"1\" class=\"dataframe\">\n",
       "  <thead>\n",
       "    <tr style=\"text-align: right;\">\n",
       "      <th></th>\n",
       "      <th>order_id</th>\n",
       "      <th>region_id</th>\n",
       "      <th>courier_id</th>\n",
       "      <th>lng</th>\n",
       "      <th>lat</th>\n",
       "      <th>aoi_id</th>\n",
       "      <th>aoi_type</th>\n",
       "      <th>accept_gps_lng</th>\n",
       "      <th>accept_gps_lat</th>\n",
       "      <th>delivery_gps_lng</th>\n",
       "      <th>delivery_gps_lat</th>\n",
       "      <th>ds</th>\n",
       "    </tr>\n",
       "  </thead>\n",
       "  <tbody>\n",
       "    <tr>\n",
       "      <th>count</th>\n",
       "      <td>4.514661e+06</td>\n",
       "      <td>4.514661e+06</td>\n",
       "      <td>4.514661e+06</td>\n",
       "      <td>4.514661e+06</td>\n",
       "      <td>4.514661e+06</td>\n",
       "      <td>4.514661e+06</td>\n",
       "      <td>4.514661e+06</td>\n",
       "      <td>4.511284e+06</td>\n",
       "      <td>4.511284e+06</td>\n",
       "      <td>4.514661e+06</td>\n",
       "      <td>4.514661e+06</td>\n",
       "      <td>4.514661e+06</td>\n",
       "    </tr>\n",
       "    <tr>\n",
       "      <th>mean</th>\n",
       "      <td>2.257330e+06</td>\n",
       "      <td>7.381683e+01</td>\n",
       "      <td>2.385268e+03</td>\n",
       "      <td>1.178683e+02</td>\n",
       "      <td>3.084852e+01</td>\n",
       "      <td>2.998049e+04</td>\n",
       "      <td>4.355784e+00</td>\n",
       "      <td>1.178629e+02</td>\n",
       "      <td>3.083946e+01</td>\n",
       "      <td>1.178634e+02</td>\n",
       "      <td>3.084735e+01</td>\n",
       "      <td>8.112479e+02</td>\n",
       "    </tr>\n",
       "    <tr>\n",
       "      <th>std</th>\n",
       "      <td>1.303271e+06</td>\n",
       "      <td>4.538614e+01</td>\n",
       "      <td>1.390526e+03</td>\n",
       "      <td>5.822634e+00</td>\n",
       "      <td>1.928226e+00</td>\n",
       "      <td>1.729042e+04</td>\n",
       "      <td>5.527705e+00</td>\n",
       "      <td>5.853219e+00</td>\n",
       "      <td>1.916018e+00</td>\n",
       "      <td>5.867664e+00</td>\n",
       "      <td>1.937424e+00</td>\n",
       "      <td>1.653643e+02</td>\n",
       "    </tr>\n",
       "    <tr>\n",
       "      <th>min</th>\n",
       "      <td>0.000000e+00</td>\n",
       "      <td>0.000000e+00</td>\n",
       "      <td>0.000000e+00</td>\n",
       "      <td>1.020849e+02</td>\n",
       "      <td>2.311348e+01</td>\n",
       "      <td>0.000000e+00</td>\n",
       "      <td>0.000000e+00</td>\n",
       "      <td>-9.000000e-05</td>\n",
       "      <td>-9.000000e-05</td>\n",
       "      <td>-9.000000e-05</td>\n",
       "      <td>-9.000000e-05</td>\n",
       "      <td>5.010000e+02</td>\n",
       "    </tr>\n",
       "    <tr>\n",
       "      <th>25%</th>\n",
       "      <td>1.128665e+06</td>\n",
       "      <td>3.600000e+01</td>\n",
       "      <td>1.206000e+03</td>\n",
       "      <td>1.199666e+02</td>\n",
       "      <td>3.012185e+01</td>\n",
       "      <td>1.487400e+04</td>\n",
       "      <td>1.000000e+00</td>\n",
       "      <td>1.199621e+02</td>\n",
       "      <td>3.010518e+01</td>\n",
       "      <td>1.199666e+02</td>\n",
       "      <td>3.012170e+01</td>\n",
       "      <td>7.030000e+02</td>\n",
       "    </tr>\n",
       "    <tr>\n",
       "      <th>50%</th>\n",
       "      <td>2.257330e+06</td>\n",
       "      <td>7.100000e+01</td>\n",
       "      <td>2.345000e+03</td>\n",
       "      <td>1.202321e+02</td>\n",
       "      <td>3.030657e+01</td>\n",
       "      <td>3.005500e+04</td>\n",
       "      <td>1.000000e+00</td>\n",
       "      <td>1.202476e+02</td>\n",
       "      <td>3.031297e+01</td>\n",
       "      <td>1.202317e+02</td>\n",
       "      <td>3.030687e+01</td>\n",
       "      <td>8.200000e+02</td>\n",
       "    </tr>\n",
       "    <tr>\n",
       "      <th>75%</th>\n",
       "      <td>3.385995e+06</td>\n",
       "      <td>1.110000e+02</td>\n",
       "      <td>3.588000e+03</td>\n",
       "      <td>1.214099e+02</td>\n",
       "      <td>3.118919e+01</td>\n",
       "      <td>4.446400e+04</td>\n",
       "      <td>8.000000e+00</td>\n",
       "      <td>1.214002e+02</td>\n",
       "      <td>3.118778e+01</td>\n",
       "      <td>1.214098e+02</td>\n",
       "      <td>3.118906e+01</td>\n",
       "      <td>9.290000e+02</td>\n",
       "    </tr>\n",
       "    <tr>\n",
       "      <th>max</th>\n",
       "      <td>4.514660e+06</td>\n",
       "      <td>1.670000e+02</td>\n",
       "      <td>4.876000e+03</td>\n",
       "      <td>1.268191e+02</td>\n",
       "      <td>4.422335e+01</td>\n",
       "      <td>6.014900e+04</td>\n",
       "      <td>1.500000e+01</td>\n",
       "      <td>1.266288e+02</td>\n",
       "      <td>4.394521e+01</td>\n",
       "      <td>1.397561e+02</td>\n",
       "      <td>4.576194e+01</td>\n",
       "      <td>1.031000e+03</td>\n",
       "    </tr>\n",
       "  </tbody>\n",
       "</table>\n",
       "</div>"
      ],
      "text/plain": [
       "           order_id     region_id    courier_id           lng           lat  \\\n",
       "count  4.514661e+06  4.514661e+06  4.514661e+06  4.514661e+06  4.514661e+06   \n",
       "mean   2.257330e+06  7.381683e+01  2.385268e+03  1.178683e+02  3.084852e+01   \n",
       "std    1.303271e+06  4.538614e+01  1.390526e+03  5.822634e+00  1.928226e+00   \n",
       "min    0.000000e+00  0.000000e+00  0.000000e+00  1.020849e+02  2.311348e+01   \n",
       "25%    1.128665e+06  3.600000e+01  1.206000e+03  1.199666e+02  3.012185e+01   \n",
       "50%    2.257330e+06  7.100000e+01  2.345000e+03  1.202321e+02  3.030657e+01   \n",
       "75%    3.385995e+06  1.110000e+02  3.588000e+03  1.214099e+02  3.118919e+01   \n",
       "max    4.514660e+06  1.670000e+02  4.876000e+03  1.268191e+02  4.422335e+01   \n",
       "\n",
       "             aoi_id      aoi_type  accept_gps_lng  accept_gps_lat  \\\n",
       "count  4.514661e+06  4.514661e+06    4.511284e+06    4.511284e+06   \n",
       "mean   2.998049e+04  4.355784e+00    1.178629e+02    3.083946e+01   \n",
       "std    1.729042e+04  5.527705e+00    5.853219e+00    1.916018e+00   \n",
       "min    0.000000e+00  0.000000e+00   -9.000000e-05   -9.000000e-05   \n",
       "25%    1.487400e+04  1.000000e+00    1.199621e+02    3.010518e+01   \n",
       "50%    3.005500e+04  1.000000e+00    1.202476e+02    3.031297e+01   \n",
       "75%    4.446400e+04  8.000000e+00    1.214002e+02    3.118778e+01   \n",
       "max    6.014900e+04  1.500000e+01    1.266288e+02    4.394521e+01   \n",
       "\n",
       "       delivery_gps_lng  delivery_gps_lat            ds  \n",
       "count      4.514661e+06      4.514661e+06  4.514661e+06  \n",
       "mean       1.178634e+02      3.084735e+01  8.112479e+02  \n",
       "std        5.867664e+00      1.937424e+00  1.653643e+02  \n",
       "min       -9.000000e-05     -9.000000e-05  5.010000e+02  \n",
       "25%        1.199666e+02      3.012170e+01  7.030000e+02  \n",
       "50%        1.202317e+02      3.030687e+01  8.200000e+02  \n",
       "75%        1.214098e+02      3.118906e+01  9.290000e+02  \n",
       "max        1.397561e+02      4.576194e+01  1.031000e+03  "
      ]
     },
     "execution_count": 122,
     "metadata": {},
     "output_type": "execute_result"
    }
   ],
   "source": [
    "merged_dataset.describe()"
   ]
  },
  {
   "cell_type": "code",
   "execution_count": 123,
   "id": "64da448e",
   "metadata": {},
   "outputs": [
    {
     "name": "stdout",
     "output_type": "stream",
     "text": [
      "<class 'pandas.core.frame.DataFrame'>\n",
      "RangeIndex: 4514661 entries, 0 to 4514660\n",
      "Data columns (total 17 columns):\n",
      " #   Column             Dtype  \n",
      "---  ------             -----  \n",
      " 0   order_id           int64  \n",
      " 1   region_id          int64  \n",
      " 2   city               object \n",
      " 3   courier_id         int64  \n",
      " 4   lng                float64\n",
      " 5   lat                float64\n",
      " 6   aoi_id             int64  \n",
      " 7   aoi_type           int64  \n",
      " 8   accept_time        object \n",
      " 9   accept_gps_time    object \n",
      " 10  accept_gps_lng     float64\n",
      " 11  accept_gps_lat     float64\n",
      " 12  delivery_time      object \n",
      " 13  delivery_gps_time  object \n",
      " 14  delivery_gps_lng   float64\n",
      " 15  delivery_gps_lat   float64\n",
      " 16  ds                 int64  \n",
      "dtypes: float64(6), int64(6), object(5)\n",
      "memory usage: 585.6+ MB\n"
     ]
    }
   ],
   "source": [
    "merged_dataset.info()"
   ]
  },
  {
   "cell_type": "code",
   "execution_count": 124,
   "id": "4e9bfd82",
   "metadata": {},
   "outputs": [
    {
     "data": {
      "text/plain": [
       "array(['Chongqing', 'Jilin', 'Hangzhou', 'Shanghai', 'Yantai'],\n",
       "      dtype=object)"
      ]
     },
     "execution_count": 124,
     "metadata": {},
     "output_type": "execute_result"
    }
   ],
   "source": [
    "#to know about the cities in the dataset \n",
    "merged_dataset[\"city\"].unique()"
   ]
  },
  {
   "cell_type": "code",
   "execution_count": 125,
   "id": "b1457631",
   "metadata": {},
   "outputs": [],
   "source": [
    "#for backup\n",
    "backup_raw=merged_dataset"
   ]
  },
  {
   "cell_type": "code",
   "execution_count": 126,
   "id": "a7dc125e-6401-4d58-a7be-20b153f1c51f",
   "metadata": {},
   "outputs": [],
   "source": [
    "#Adding the year for the accept time and delivery time .\n"
   ]
  },
  {
   "cell_type": "raw",
   "id": "ebc776db-06b6-4e6e-8726-78b78f6b08f4",
   "metadata": {},
   "source": [
    "from datetime import datetime\n",
    "\n",
    "# Function to add the current year to the datetime format\n",
    "def add_year_to_datetime(date_str):\n",
    "    # Assuming current year is needed\n",
    "    current_year = datetime.now().year\n",
    "    return f\"{current_year}-{date_str}\"\n",
    "\n",
    "#applying the current yr using apply function. \n",
    "\n",
    "merged_dataset['accept_time'] = merged_dataset['accept_time'].apply(add_year_to_datetime)\n",
    "merged_dataset['delivery_time'] = merged_dataset['delivery_time'].apply(add_year_to_datetime)\n",
    "\n",
    "\n"
   ]
  },
  {
   "cell_type": "code",
   "execution_count": 127,
   "id": "b9be6ec9-55b5-4b3c-88cd-c2fb9f4aa463",
   "metadata": {},
   "outputs": [],
   "source": [
    "# Function to add the year 2024 to the datetime format\n",
    "def add_year_to_datetime(date_str):\n",
    "    # Always add the year 2024\n",
    "    return f\"2024-{date_str}\"\n",
    "\n",
    "# Applying the updated function\n",
    "merged_dataset['accept_time'] = merged_dataset['accept_time'].apply(add_year_to_datetime)\n",
    "merged_dataset['accept_gps_time'] = merged_dataset['accept_gps_time'].apply(add_year_to_datetime)\n",
    "merged_dataset['delivery_time'] = merged_dataset['delivery_time'].apply(add_year_to_datetime)\n",
    "merged_dataset['delivery_gps_time'] = merged_dataset['delivery_gps_time'].apply(add_year_to_datetime)\n"
   ]
  },
  {
   "cell_type": "code",
   "execution_count": 129,
   "id": "de934bc6-7dc4-451d-a557-03a0019f43e2",
   "metadata": {},
   "outputs": [
    {
     "data": {
      "text/html": [
       "<div>\n",
       "<style scoped>\n",
       "    .dataframe tbody tr th:only-of-type {\n",
       "        vertical-align: middle;\n",
       "    }\n",
       "\n",
       "    .dataframe tbody tr th {\n",
       "        vertical-align: top;\n",
       "    }\n",
       "\n",
       "    .dataframe thead th {\n",
       "        text-align: right;\n",
       "    }\n",
       "</style>\n",
       "<table border=\"1\" class=\"dataframe\">\n",
       "  <thead>\n",
       "    <tr style=\"text-align: right;\">\n",
       "      <th></th>\n",
       "      <th>order_id</th>\n",
       "      <th>region_id</th>\n",
       "      <th>city</th>\n",
       "      <th>courier_id</th>\n",
       "      <th>lng</th>\n",
       "      <th>lat</th>\n",
       "      <th>aoi_id</th>\n",
       "      <th>aoi_type</th>\n",
       "      <th>accept_time</th>\n",
       "      <th>accept_gps_time</th>\n",
       "      <th>accept_gps_lng</th>\n",
       "      <th>accept_gps_lat</th>\n",
       "      <th>delivery_time</th>\n",
       "      <th>delivery_gps_time</th>\n",
       "      <th>delivery_gps_lng</th>\n",
       "      <th>delivery_gps_lat</th>\n",
       "      <th>ds</th>\n",
       "    </tr>\n",
       "  </thead>\n",
       "  <tbody>\n",
       "    <tr>\n",
       "      <th>0</th>\n",
       "      <td>2031782</td>\n",
       "      <td>10</td>\n",
       "      <td>Chongqing</td>\n",
       "      <td>73</td>\n",
       "      <td>108.71571</td>\n",
       "      <td>30.90228</td>\n",
       "      <td>50</td>\n",
       "      <td>14</td>\n",
       "      <td>2024-10-22 10:26:00</td>\n",
       "      <td>2024-10-22 10:26:00</td>\n",
       "      <td>108.71826</td>\n",
       "      <td>30.95587</td>\n",
       "      <td>2024-10-22 17:04:00</td>\n",
       "      <td>2024-10-22 17:04:00</td>\n",
       "      <td>108.66361</td>\n",
       "      <td>30.96702</td>\n",
       "      <td>1022</td>\n",
       "    </tr>\n",
       "    <tr>\n",
       "      <th>1</th>\n",
       "      <td>4285071</td>\n",
       "      <td>10</td>\n",
       "      <td>Chongqing</td>\n",
       "      <td>3605</td>\n",
       "      <td>108.71639</td>\n",
       "      <td>30.90269</td>\n",
       "      <td>50</td>\n",
       "      <td>14</td>\n",
       "      <td>2024-09-07 10:13:00</td>\n",
       "      <td>2024-09-07 10:13:00</td>\n",
       "      <td>108.71791</td>\n",
       "      <td>30.95635</td>\n",
       "      <td>2024-09-09 15:44:00</td>\n",
       "      <td>2024-09-09 15:44:00</td>\n",
       "      <td>108.71644</td>\n",
       "      <td>30.90266</td>\n",
       "      <td>907</td>\n",
       "    </tr>\n",
       "    <tr>\n",
       "      <th>2</th>\n",
       "      <td>4056800</td>\n",
       "      <td>10</td>\n",
       "      <td>Chongqing</td>\n",
       "      <td>3605</td>\n",
       "      <td>108.71645</td>\n",
       "      <td>30.90259</td>\n",
       "      <td>50</td>\n",
       "      <td>14</td>\n",
       "      <td>2024-06-26 09:49:00</td>\n",
       "      <td>2024-06-26 09:49:00</td>\n",
       "      <td>108.71798</td>\n",
       "      <td>30.95635</td>\n",
       "      <td>2024-06-27 16:03:00</td>\n",
       "      <td>2024-06-27 16:03:00</td>\n",
       "      <td>108.71647</td>\n",
       "      <td>30.90251</td>\n",
       "      <td>626</td>\n",
       "    </tr>\n",
       "    <tr>\n",
       "      <th>3</th>\n",
       "      <td>3589481</td>\n",
       "      <td>10</td>\n",
       "      <td>Chongqing</td>\n",
       "      <td>3605</td>\n",
       "      <td>108.71650</td>\n",
       "      <td>30.90347</td>\n",
       "      <td>50</td>\n",
       "      <td>14</td>\n",
       "      <td>2024-09-11 11:01:00</td>\n",
       "      <td>2024-09-11 11:01:00</td>\n",
       "      <td>108.71823</td>\n",
       "      <td>30.95596</td>\n",
       "      <td>2024-09-13 17:14:00</td>\n",
       "      <td>2024-09-13 17:14:00</td>\n",
       "      <td>108.71650</td>\n",
       "      <td>30.90341</td>\n",
       "      <td>911</td>\n",
       "    </tr>\n",
       "    <tr>\n",
       "      <th>4</th>\n",
       "      <td>2752329</td>\n",
       "      <td>10</td>\n",
       "      <td>Chongqing</td>\n",
       "      <td>3605</td>\n",
       "      <td>108.71608</td>\n",
       "      <td>30.90409</td>\n",
       "      <td>50</td>\n",
       "      <td>14</td>\n",
       "      <td>2024-10-01 09:52:00</td>\n",
       "      <td>2024-10-01 09:52:00</td>\n",
       "      <td>108.71820</td>\n",
       "      <td>30.95598</td>\n",
       "      <td>2024-10-01 18:30:00</td>\n",
       "      <td>2024-10-01 18:30:00</td>\n",
       "      <td>108.71413</td>\n",
       "      <td>30.90397</td>\n",
       "      <td>1001</td>\n",
       "    </tr>\n",
       "    <tr>\n",
       "      <th>...</th>\n",
       "      <td>...</td>\n",
       "      <td>...</td>\n",
       "      <td>...</td>\n",
       "      <td>...</td>\n",
       "      <td>...</td>\n",
       "      <td>...</td>\n",
       "      <td>...</td>\n",
       "      <td>...</td>\n",
       "      <td>...</td>\n",
       "      <td>...</td>\n",
       "      <td>...</td>\n",
       "      <td>...</td>\n",
       "      <td>...</td>\n",
       "      <td>...</td>\n",
       "      <td>...</td>\n",
       "      <td>...</td>\n",
       "      <td>...</td>\n",
       "    </tr>\n",
       "    <tr>\n",
       "      <th>4514656</th>\n",
       "      <td>2512759</td>\n",
       "      <td>167</td>\n",
       "      <td>Yantai</td>\n",
       "      <td>1571</td>\n",
       "      <td>121.19537</td>\n",
       "      <td>36.78027</td>\n",
       "      <td>60137</td>\n",
       "      <td>1</td>\n",
       "      <td>2024-07-03 15:14:00</td>\n",
       "      <td>2024-07-03 15:14:00</td>\n",
       "      <td>121.20571</td>\n",
       "      <td>36.76358</td>\n",
       "      <td>2024-07-03 17:33:00</td>\n",
       "      <td>2024-07-03 17:33:00</td>\n",
       "      <td>121.19512</td>\n",
       "      <td>36.78016</td>\n",
       "      <td>703</td>\n",
       "    </tr>\n",
       "    <tr>\n",
       "      <th>4514657</th>\n",
       "      <td>3779171</td>\n",
       "      <td>167</td>\n",
       "      <td>Yantai</td>\n",
       "      <td>1571</td>\n",
       "      <td>121.19646</td>\n",
       "      <td>36.78103</td>\n",
       "      <td>60137</td>\n",
       "      <td>1</td>\n",
       "      <td>2024-05-24 10:06:00</td>\n",
       "      <td>2024-05-24 10:06:00</td>\n",
       "      <td>121.20567</td>\n",
       "      <td>36.76358</td>\n",
       "      <td>2024-05-24 15:12:00</td>\n",
       "      <td>2024-05-24 15:12:00</td>\n",
       "      <td>121.19635</td>\n",
       "      <td>36.78090</td>\n",
       "      <td>524</td>\n",
       "    </tr>\n",
       "    <tr>\n",
       "      <th>4514658</th>\n",
       "      <td>4198558</td>\n",
       "      <td>167</td>\n",
       "      <td>Yantai</td>\n",
       "      <td>3402</td>\n",
       "      <td>121.19515</td>\n",
       "      <td>36.78057</td>\n",
       "      <td>60137</td>\n",
       "      <td>1</td>\n",
       "      <td>2024-05-01 15:13:00</td>\n",
       "      <td>2024-05-01 15:13:00</td>\n",
       "      <td>121.20555</td>\n",
       "      <td>36.76358</td>\n",
       "      <td>2024-05-01 16:06:00</td>\n",
       "      <td>2024-05-01 16:06:00</td>\n",
       "      <td>121.19567</td>\n",
       "      <td>36.78372</td>\n",
       "      <td>501</td>\n",
       "    </tr>\n",
       "    <tr>\n",
       "      <th>4514659</th>\n",
       "      <td>1805034</td>\n",
       "      <td>167</td>\n",
       "      <td>Yantai</td>\n",
       "      <td>3402</td>\n",
       "      <td>121.19631</td>\n",
       "      <td>36.78100</td>\n",
       "      <td>60137</td>\n",
       "      <td>1</td>\n",
       "      <td>2024-05-05 09:22:00</td>\n",
       "      <td>2024-05-05 09:22:00</td>\n",
       "      <td>121.20561</td>\n",
       "      <td>36.76357</td>\n",
       "      <td>2024-05-05 17:24:00</td>\n",
       "      <td>2024-05-05 17:24:00</td>\n",
       "      <td>121.19639</td>\n",
       "      <td>36.78082</td>\n",
       "      <td>505</td>\n",
       "    </tr>\n",
       "    <tr>\n",
       "      <th>4514660</th>\n",
       "      <td>2801941</td>\n",
       "      <td>167</td>\n",
       "      <td>Yantai</td>\n",
       "      <td>4314</td>\n",
       "      <td>121.19632</td>\n",
       "      <td>36.78072</td>\n",
       "      <td>60137</td>\n",
       "      <td>1</td>\n",
       "      <td>2024-08-08 09:54:00</td>\n",
       "      <td>2024-08-08 09:54:00</td>\n",
       "      <td>121.20551</td>\n",
       "      <td>36.76350</td>\n",
       "      <td>2024-08-08 14:59:00</td>\n",
       "      <td>2024-08-08 14:59:00</td>\n",
       "      <td>121.20007</td>\n",
       "      <td>36.77130</td>\n",
       "      <td>808</td>\n",
       "    </tr>\n",
       "  </tbody>\n",
       "</table>\n",
       "<p>4514661 rows × 17 columns</p>\n",
       "</div>"
      ],
      "text/plain": [
       "         order_id  region_id       city  courier_id        lng       lat  \\\n",
       "0         2031782         10  Chongqing          73  108.71571  30.90228   \n",
       "1         4285071         10  Chongqing        3605  108.71639  30.90269   \n",
       "2         4056800         10  Chongqing        3605  108.71645  30.90259   \n",
       "3         3589481         10  Chongqing        3605  108.71650  30.90347   \n",
       "4         2752329         10  Chongqing        3605  108.71608  30.90409   \n",
       "...           ...        ...        ...         ...        ...       ...   \n",
       "4514656   2512759        167     Yantai        1571  121.19537  36.78027   \n",
       "4514657   3779171        167     Yantai        1571  121.19646  36.78103   \n",
       "4514658   4198558        167     Yantai        3402  121.19515  36.78057   \n",
       "4514659   1805034        167     Yantai        3402  121.19631  36.78100   \n",
       "4514660   2801941        167     Yantai        4314  121.19632  36.78072   \n",
       "\n",
       "         aoi_id  aoi_type          accept_time      accept_gps_time  \\\n",
       "0            50        14  2024-10-22 10:26:00  2024-10-22 10:26:00   \n",
       "1            50        14  2024-09-07 10:13:00  2024-09-07 10:13:00   \n",
       "2            50        14  2024-06-26 09:49:00  2024-06-26 09:49:00   \n",
       "3            50        14  2024-09-11 11:01:00  2024-09-11 11:01:00   \n",
       "4            50        14  2024-10-01 09:52:00  2024-10-01 09:52:00   \n",
       "...         ...       ...                  ...                  ...   \n",
       "4514656   60137         1  2024-07-03 15:14:00  2024-07-03 15:14:00   \n",
       "4514657   60137         1  2024-05-24 10:06:00  2024-05-24 10:06:00   \n",
       "4514658   60137         1  2024-05-01 15:13:00  2024-05-01 15:13:00   \n",
       "4514659   60137         1  2024-05-05 09:22:00  2024-05-05 09:22:00   \n",
       "4514660   60137         1  2024-08-08 09:54:00  2024-08-08 09:54:00   \n",
       "\n",
       "         accept_gps_lng  accept_gps_lat        delivery_time  \\\n",
       "0             108.71826        30.95587  2024-10-22 17:04:00   \n",
       "1             108.71791        30.95635  2024-09-09 15:44:00   \n",
       "2             108.71798        30.95635  2024-06-27 16:03:00   \n",
       "3             108.71823        30.95596  2024-09-13 17:14:00   \n",
       "4             108.71820        30.95598  2024-10-01 18:30:00   \n",
       "...                 ...             ...                  ...   \n",
       "4514656       121.20571        36.76358  2024-07-03 17:33:00   \n",
       "4514657       121.20567        36.76358  2024-05-24 15:12:00   \n",
       "4514658       121.20555        36.76358  2024-05-01 16:06:00   \n",
       "4514659       121.20561        36.76357  2024-05-05 17:24:00   \n",
       "4514660       121.20551        36.76350  2024-08-08 14:59:00   \n",
       "\n",
       "           delivery_gps_time  delivery_gps_lng  delivery_gps_lat    ds  \n",
       "0        2024-10-22 17:04:00         108.66361          30.96702  1022  \n",
       "1        2024-09-09 15:44:00         108.71644          30.90266   907  \n",
       "2        2024-06-27 16:03:00         108.71647          30.90251   626  \n",
       "3        2024-09-13 17:14:00         108.71650          30.90341   911  \n",
       "4        2024-10-01 18:30:00         108.71413          30.90397  1001  \n",
       "...                      ...               ...               ...   ...  \n",
       "4514656  2024-07-03 17:33:00         121.19512          36.78016   703  \n",
       "4514657  2024-05-24 15:12:00         121.19635          36.78090   524  \n",
       "4514658  2024-05-01 16:06:00         121.19567          36.78372   501  \n",
       "4514659  2024-05-05 17:24:00         121.19639          36.78082   505  \n",
       "4514660  2024-08-08 14:59:00         121.20007          36.77130   808  \n",
       "\n",
       "[4514661 rows x 17 columns]"
      ]
     },
     "execution_count": 129,
     "metadata": {},
     "output_type": "execute_result"
    }
   ],
   "source": [
    "merged_dataset"
   ]
  },
  {
   "cell_type": "markdown",
   "id": "7d1226d9-d8a8-426a-ae86-4212cd9049cb",
   "metadata": {},
   "source": [
    "### Handling Null values "
   ]
  },
  {
   "cell_type": "code",
   "execution_count": 130,
   "id": "f8416ec9",
   "metadata": {},
   "outputs": [
    {
     "data": {
      "text/plain": [
       "order_id                0\n",
       "region_id               0\n",
       "city                    0\n",
       "courier_id              0\n",
       "lng                     0\n",
       "lat                     0\n",
       "aoi_id                  0\n",
       "aoi_type                0\n",
       "accept_time             0\n",
       "accept_gps_time         0\n",
       "accept_gps_lng       3377\n",
       "accept_gps_lat       3377\n",
       "delivery_time           0\n",
       "delivery_gps_time       0\n",
       "delivery_gps_lng        0\n",
       "delivery_gps_lat        0\n",
       "ds                      0\n",
       "dtype: int64"
      ]
     },
     "execution_count": 130,
     "metadata": {},
     "output_type": "execute_result"
    }
   ],
   "source": [
    "#showing the count of null values\n",
    "merged_dataset.isnull().sum()"
   ]
  },
  {
   "cell_type": "code",
   "execution_count": 131,
   "id": "5b1ea07b",
   "metadata": {
    "scrolled": true
   },
   "outputs": [
    {
     "data": {
      "text/html": [
       "<div>\n",
       "<style scoped>\n",
       "    .dataframe tbody tr th:only-of-type {\n",
       "        vertical-align: middle;\n",
       "    }\n",
       "\n",
       "    .dataframe tbody tr th {\n",
       "        vertical-align: top;\n",
       "    }\n",
       "\n",
       "    .dataframe thead th {\n",
       "        text-align: right;\n",
       "    }\n",
       "</style>\n",
       "<table border=\"1\" class=\"dataframe\">\n",
       "  <thead>\n",
       "    <tr style=\"text-align: right;\">\n",
       "      <th></th>\n",
       "      <th>order_id</th>\n",
       "      <th>region_id</th>\n",
       "      <th>city</th>\n",
       "      <th>courier_id</th>\n",
       "      <th>lng</th>\n",
       "      <th>lat</th>\n",
       "      <th>aoi_id</th>\n",
       "      <th>aoi_type</th>\n",
       "      <th>accept_time</th>\n",
       "      <th>accept_gps_time</th>\n",
       "      <th>accept_gps_lng</th>\n",
       "      <th>accept_gps_lat</th>\n",
       "      <th>delivery_time</th>\n",
       "      <th>delivery_gps_time</th>\n",
       "      <th>delivery_gps_lng</th>\n",
       "      <th>delivery_gps_lat</th>\n",
       "      <th>ds</th>\n",
       "    </tr>\n",
       "  </thead>\n",
       "  <tbody>\n",
       "    <tr>\n",
       "      <th>931354</th>\n",
       "      <td>3950697</td>\n",
       "      <td>31</td>\n",
       "      <td>Jilin</td>\n",
       "      <td>4849</td>\n",
       "      <td>126.56984</td>\n",
       "      <td>43.85005</td>\n",
       "      <td>235</td>\n",
       "      <td>14</td>\n",
       "      <td>2024-09-03 14:03:00</td>\n",
       "      <td>2024-09-03 14:03:00</td>\n",
       "      <td>NaN</td>\n",
       "      <td>NaN</td>\n",
       "      <td>2024-09-03 16:31:00</td>\n",
       "      <td>2024-09-03 16:31:00</td>\n",
       "      <td>126.56815</td>\n",
       "      <td>43.85131</td>\n",
       "      <td>903</td>\n",
       "    </tr>\n",
       "    <tr>\n",
       "      <th>931369</th>\n",
       "      <td>1853698</td>\n",
       "      <td>31</td>\n",
       "      <td>Jilin</td>\n",
       "      <td>435</td>\n",
       "      <td>126.56281</td>\n",
       "      <td>43.86707</td>\n",
       "      <td>570</td>\n",
       "      <td>1</td>\n",
       "      <td>2024-09-26 08:40:00</td>\n",
       "      <td>2024-09-26 08:40:00</td>\n",
       "      <td>NaN</td>\n",
       "      <td>NaN</td>\n",
       "      <td>2024-09-26 14:25:00</td>\n",
       "      <td>2024-09-26 14:25:00</td>\n",
       "      <td>126.56232</td>\n",
       "      <td>43.86717</td>\n",
       "      <td>926</td>\n",
       "    </tr>\n",
       "    <tr>\n",
       "      <th>931403</th>\n",
       "      <td>1103923</td>\n",
       "      <td>31</td>\n",
       "      <td>Jilin</td>\n",
       "      <td>435</td>\n",
       "      <td>126.56194</td>\n",
       "      <td>43.86761</td>\n",
       "      <td>570</td>\n",
       "      <td>1</td>\n",
       "      <td>2024-07-05 08:52:00</td>\n",
       "      <td>2024-07-05 08:52:00</td>\n",
       "      <td>NaN</td>\n",
       "      <td>NaN</td>\n",
       "      <td>2024-07-05 12:38:00</td>\n",
       "      <td>2024-07-05 12:38:00</td>\n",
       "      <td>126.56176</td>\n",
       "      <td>43.86768</td>\n",
       "      <td>705</td>\n",
       "    </tr>\n",
       "    <tr>\n",
       "      <th>931428</th>\n",
       "      <td>2250016</td>\n",
       "      <td>31</td>\n",
       "      <td>Jilin</td>\n",
       "      <td>435</td>\n",
       "      <td>126.56327</td>\n",
       "      <td>43.86591</td>\n",
       "      <td>570</td>\n",
       "      <td>1</td>\n",
       "      <td>2024-09-25 12:30:00</td>\n",
       "      <td>2024-09-25 12:30:00</td>\n",
       "      <td>NaN</td>\n",
       "      <td>NaN</td>\n",
       "      <td>2024-09-25 16:58:00</td>\n",
       "      <td>2024-09-25 16:58:00</td>\n",
       "      <td>126.56433</td>\n",
       "      <td>43.86586</td>\n",
       "      <td>925</td>\n",
       "    </tr>\n",
       "    <tr>\n",
       "      <th>931498</th>\n",
       "      <td>4303930</td>\n",
       "      <td>31</td>\n",
       "      <td>Jilin</td>\n",
       "      <td>435</td>\n",
       "      <td>126.56216</td>\n",
       "      <td>43.85860</td>\n",
       "      <td>1530</td>\n",
       "      <td>14</td>\n",
       "      <td>2024-09-25 12:31:00</td>\n",
       "      <td>2024-09-25 12:31:00</td>\n",
       "      <td>NaN</td>\n",
       "      <td>NaN</td>\n",
       "      <td>2024-09-25 16:20:00</td>\n",
       "      <td>2024-09-25 16:20:00</td>\n",
       "      <td>126.56170</td>\n",
       "      <td>43.85821</td>\n",
       "      <td>925</td>\n",
       "    </tr>\n",
       "    <tr>\n",
       "      <th>...</th>\n",
       "      <td>...</td>\n",
       "      <td>...</td>\n",
       "      <td>...</td>\n",
       "      <td>...</td>\n",
       "      <td>...</td>\n",
       "      <td>...</td>\n",
       "      <td>...</td>\n",
       "      <td>...</td>\n",
       "      <td>...</td>\n",
       "      <td>...</td>\n",
       "      <td>...</td>\n",
       "      <td>...</td>\n",
       "      <td>...</td>\n",
       "      <td>...</td>\n",
       "      <td>...</td>\n",
       "      <td>...</td>\n",
       "      <td>...</td>\n",
       "    </tr>\n",
       "    <tr>\n",
       "      <th>4514548</th>\n",
       "      <td>3726142</td>\n",
       "      <td>167</td>\n",
       "      <td>Yantai</td>\n",
       "      <td>1571</td>\n",
       "      <td>121.16360</td>\n",
       "      <td>36.76590</td>\n",
       "      <td>58594</td>\n",
       "      <td>14</td>\n",
       "      <td>2024-10-05 21:46:00</td>\n",
       "      <td>2024-10-05 21:46:00</td>\n",
       "      <td>NaN</td>\n",
       "      <td>NaN</td>\n",
       "      <td>2024-10-05 21:46:00</td>\n",
       "      <td>2024-10-05 21:46:00</td>\n",
       "      <td>121.16361</td>\n",
       "      <td>36.76582</td>\n",
       "      <td>1005</td>\n",
       "    </tr>\n",
       "    <tr>\n",
       "      <th>4514571</th>\n",
       "      <td>214005</td>\n",
       "      <td>167</td>\n",
       "      <td>Yantai</td>\n",
       "      <td>4314</td>\n",
       "      <td>121.16294</td>\n",
       "      <td>36.78224</td>\n",
       "      <td>59312</td>\n",
       "      <td>14</td>\n",
       "      <td>2024-08-06 14:22:00</td>\n",
       "      <td>2024-08-06 14:22:00</td>\n",
       "      <td>NaN</td>\n",
       "      <td>NaN</td>\n",
       "      <td>2024-08-06 16:26:00</td>\n",
       "      <td>2024-08-06 16:26:00</td>\n",
       "      <td>121.16177</td>\n",
       "      <td>36.75060</td>\n",
       "      <td>806</td>\n",
       "    </tr>\n",
       "    <tr>\n",
       "      <th>4514647</th>\n",
       "      <td>4172105</td>\n",
       "      <td>167</td>\n",
       "      <td>Yantai</td>\n",
       "      <td>1206</td>\n",
       "      <td>121.19499</td>\n",
       "      <td>36.78125</td>\n",
       "      <td>60137</td>\n",
       "      <td>1</td>\n",
       "      <td>2024-09-07 16:33:00</td>\n",
       "      <td>2024-09-07 16:33:00</td>\n",
       "      <td>NaN</td>\n",
       "      <td>NaN</td>\n",
       "      <td>2024-09-07 17:32:00</td>\n",
       "      <td>2024-09-07 17:32:00</td>\n",
       "      <td>121.18460</td>\n",
       "      <td>36.74368</td>\n",
       "      <td>907</td>\n",
       "    </tr>\n",
       "    <tr>\n",
       "      <th>4514648</th>\n",
       "      <td>1642116</td>\n",
       "      <td>167</td>\n",
       "      <td>Yantai</td>\n",
       "      <td>1571</td>\n",
       "      <td>121.19572</td>\n",
       "      <td>36.78140</td>\n",
       "      <td>60137</td>\n",
       "      <td>1</td>\n",
       "      <td>2024-07-14 12:34:00</td>\n",
       "      <td>2024-07-14 12:34:00</td>\n",
       "      <td>NaN</td>\n",
       "      <td>NaN</td>\n",
       "      <td>2024-07-14 17:27:00</td>\n",
       "      <td>2024-07-14 17:27:00</td>\n",
       "      <td>121.19507</td>\n",
       "      <td>36.78145</td>\n",
       "      <td>714</td>\n",
       "    </tr>\n",
       "    <tr>\n",
       "      <th>4514652</th>\n",
       "      <td>311428</td>\n",
       "      <td>167</td>\n",
       "      <td>Yantai</td>\n",
       "      <td>1571</td>\n",
       "      <td>121.19574</td>\n",
       "      <td>36.78121</td>\n",
       "      <td>60137</td>\n",
       "      <td>1</td>\n",
       "      <td>2024-06-11 14:57:00</td>\n",
       "      <td>2024-06-11 14:57:00</td>\n",
       "      <td>NaN</td>\n",
       "      <td>NaN</td>\n",
       "      <td>2024-06-11 20:15:00</td>\n",
       "      <td>2024-06-11 20:15:00</td>\n",
       "      <td>121.19981</td>\n",
       "      <td>36.78111</td>\n",
       "      <td>611</td>\n",
       "    </tr>\n",
       "  </tbody>\n",
       "</table>\n",
       "<p>3377 rows × 17 columns</p>\n",
       "</div>"
      ],
      "text/plain": [
       "         order_id  region_id    city  courier_id        lng       lat  aoi_id  \\\n",
       "931354    3950697         31   Jilin        4849  126.56984  43.85005     235   \n",
       "931369    1853698         31   Jilin         435  126.56281  43.86707     570   \n",
       "931403    1103923         31   Jilin         435  126.56194  43.86761     570   \n",
       "931428    2250016         31   Jilin         435  126.56327  43.86591     570   \n",
       "931498    4303930         31   Jilin         435  126.56216  43.85860    1530   \n",
       "...           ...        ...     ...         ...        ...       ...     ...   \n",
       "4514548   3726142        167  Yantai        1571  121.16360  36.76590   58594   \n",
       "4514571    214005        167  Yantai        4314  121.16294  36.78224   59312   \n",
       "4514647   4172105        167  Yantai        1206  121.19499  36.78125   60137   \n",
       "4514648   1642116        167  Yantai        1571  121.19572  36.78140   60137   \n",
       "4514652    311428        167  Yantai        1571  121.19574  36.78121   60137   \n",
       "\n",
       "         aoi_type          accept_time      accept_gps_time  accept_gps_lng  \\\n",
       "931354         14  2024-09-03 14:03:00  2024-09-03 14:03:00             NaN   \n",
       "931369          1  2024-09-26 08:40:00  2024-09-26 08:40:00             NaN   \n",
       "931403          1  2024-07-05 08:52:00  2024-07-05 08:52:00             NaN   \n",
       "931428          1  2024-09-25 12:30:00  2024-09-25 12:30:00             NaN   \n",
       "931498         14  2024-09-25 12:31:00  2024-09-25 12:31:00             NaN   \n",
       "...           ...                  ...                  ...             ...   \n",
       "4514548        14  2024-10-05 21:46:00  2024-10-05 21:46:00             NaN   \n",
       "4514571        14  2024-08-06 14:22:00  2024-08-06 14:22:00             NaN   \n",
       "4514647         1  2024-09-07 16:33:00  2024-09-07 16:33:00             NaN   \n",
       "4514648         1  2024-07-14 12:34:00  2024-07-14 12:34:00             NaN   \n",
       "4514652         1  2024-06-11 14:57:00  2024-06-11 14:57:00             NaN   \n",
       "\n",
       "         accept_gps_lat        delivery_time    delivery_gps_time  \\\n",
       "931354              NaN  2024-09-03 16:31:00  2024-09-03 16:31:00   \n",
       "931369              NaN  2024-09-26 14:25:00  2024-09-26 14:25:00   \n",
       "931403              NaN  2024-07-05 12:38:00  2024-07-05 12:38:00   \n",
       "931428              NaN  2024-09-25 16:58:00  2024-09-25 16:58:00   \n",
       "931498              NaN  2024-09-25 16:20:00  2024-09-25 16:20:00   \n",
       "...                 ...                  ...                  ...   \n",
       "4514548             NaN  2024-10-05 21:46:00  2024-10-05 21:46:00   \n",
       "4514571             NaN  2024-08-06 16:26:00  2024-08-06 16:26:00   \n",
       "4514647             NaN  2024-09-07 17:32:00  2024-09-07 17:32:00   \n",
       "4514648             NaN  2024-07-14 17:27:00  2024-07-14 17:27:00   \n",
       "4514652             NaN  2024-06-11 20:15:00  2024-06-11 20:15:00   \n",
       "\n",
       "         delivery_gps_lng  delivery_gps_lat    ds  \n",
       "931354          126.56815          43.85131   903  \n",
       "931369          126.56232          43.86717   926  \n",
       "931403          126.56176          43.86768   705  \n",
       "931428          126.56433          43.86586   925  \n",
       "931498          126.56170          43.85821   925  \n",
       "...                   ...               ...   ...  \n",
       "4514548         121.16361          36.76582  1005  \n",
       "4514571         121.16177          36.75060   806  \n",
       "4514647         121.18460          36.74368   907  \n",
       "4514648         121.19507          36.78145   714  \n",
       "4514652         121.19981          36.78111   611  \n",
       "\n",
       "[3377 rows x 17 columns]"
      ]
     },
     "execution_count": 131,
     "metadata": {},
     "output_type": "execute_result"
    }
   ],
   "source": [
    "#resulting only the rows with null values using any\n",
    "merged_dataset[merged_dataset.isnull().any(axis=1)]"
   ]
  },
  {
   "cell_type": "markdown",
   "id": "dc4820eb",
   "metadata": {},
   "source": [
    "### LONGITUDE MEAN FOR CITIES "
   ]
  },
  {
   "cell_type": "code",
   "execution_count": 132,
   "id": "8b19561e-5d6e-4ff0-a322-93eccfd87b6b",
   "metadata": {},
   "outputs": [],
   "source": [
    "#calculating mean longitude for each cities to fill in place of null values."
   ]
  },
  {
   "cell_type": "code",
   "execution_count": 133,
   "id": "7b87f828",
   "metadata": {},
   "outputs": [
    {
     "data": {
      "text/plain": [
       "np.float64(106.55286435929095)"
      ]
     },
     "execution_count": 133,
     "metadata": {},
     "output_type": "execute_result"
    }
   ],
   "source": [
    "Chongqing_lng_mean=merged_dataset[merged_dataset['city']==\"Chongqing\"]['accept_gps_lng'].mean()\n",
    "Chongqing_lng_mean"
   ]
  },
  {
   "cell_type": "code",
   "execution_count": 134,
   "id": "cad6ab5d",
   "metadata": {},
   "outputs": [
    {
     "data": {
      "text/plain": [
       "np.float64(126.52444352002625)"
      ]
     },
     "execution_count": 134,
     "metadata": {},
     "output_type": "execute_result"
    }
   ],
   "source": [
    "Jilin_lng_mean=merged_dataset[merged_dataset['city']==\"Jilin\"]['accept_gps_lng'].mean()\n",
    "Jilin_lng_mean"
   ]
  },
  {
   "cell_type": "code",
   "execution_count": 135,
   "id": "a2168586",
   "metadata": {},
   "outputs": [
    {
     "data": {
      "text/plain": [
       "np.float64(120.14579486329508)"
      ]
     },
     "execution_count": 135,
     "metadata": {},
     "output_type": "execute_result"
    }
   ],
   "source": [
    "Hangzhou_lng_mean=merged_dataset[merged_dataset['city']==\"Hangzhou\"]['accept_gps_lng'].mean()\n",
    "Hangzhou_lng_mean"
   ]
  },
  {
   "cell_type": "code",
   "execution_count": 136,
   "id": "431c5368",
   "metadata": {},
   "outputs": [
    {
     "data": {
      "text/plain": [
       "np.float64(121.47237942948951)"
      ]
     },
     "execution_count": 136,
     "metadata": {},
     "output_type": "execute_result"
    }
   ],
   "source": [
    "Shanghai_lng_mean=merged_dataset[merged_dataset['city']==\"Shanghai\"]['accept_gps_lng'].mean()\n",
    "Shanghai_lng_mean"
   ]
  },
  {
   "cell_type": "code",
   "execution_count": 137,
   "id": "4dc8e606",
   "metadata": {},
   "outputs": [
    {
     "data": {
      "text/plain": [
       "np.float64(121.11832271360576)"
      ]
     },
     "execution_count": 137,
     "metadata": {},
     "output_type": "execute_result"
    }
   ],
   "source": [
    "Yantai_lng_mean=merged_dataset[merged_dataset['city']==\"Yantai\"]['accept_gps_lng'].mean()\n",
    "Yantai_lng_mean"
   ]
  },
  {
   "cell_type": "markdown",
   "id": "5faedbd3",
   "metadata": {},
   "source": [
    "### LATITUDE MEAN FOR CITIES\n",
    "\n"
   ]
  },
  {
   "cell_type": "code",
   "execution_count": 138,
   "id": "eb08b037-9cbc-444f-ad3e-031944ab9c29",
   "metadata": {},
   "outputs": [],
   "source": [
    "#calculating mean latitude for each cities to fill in place of null values."
   ]
  },
  {
   "cell_type": "code",
   "execution_count": 139,
   "id": "f4ec6486",
   "metadata": {},
   "outputs": [
    {
     "data": {
      "text/plain": [
       "np.float64(29.613112466298936)"
      ]
     },
     "execution_count": 139,
     "metadata": {},
     "output_type": "execute_result"
    }
   ],
   "source": [
    "Chongqing_lat_mean=merged_dataset[merged_dataset['city']==\"Chongqing\"]['accept_gps_lat'].mean()\n",
    "Chongqing_lat_mean"
   ]
  },
  {
   "cell_type": "code",
   "execution_count": 140,
   "id": "06ef4f1d",
   "metadata": {},
   "outputs": [
    {
     "data": {
      "text/plain": [
       "np.float64(43.83430860111622)"
      ]
     },
     "execution_count": 140,
     "metadata": {},
     "output_type": "execute_result"
    }
   ],
   "source": [
    "Jilin_lat_mean=merged_dataset[merged_dataset['city']==\"Jilin\"]['accept_gps_lat'].mean()\n",
    "Jilin_lat_mean"
   ]
  },
  {
   "cell_type": "code",
   "execution_count": 141,
   "id": "258eb0cb",
   "metadata": {},
   "outputs": [
    {
     "data": {
      "text/plain": [
       "np.float64(30.23708115321227)"
      ]
     },
     "execution_count": 141,
     "metadata": {},
     "output_type": "execute_result"
    }
   ],
   "source": [
    "Hangzhou_lat_mean=merged_dataset[merged_dataset['city']==\"Hangzhou\"]['accept_gps_lat'].mean()\n",
    "Hangzhou_lat_mean"
   ]
  },
  {
   "cell_type": "code",
   "execution_count": 142,
   "id": "97382cf2",
   "metadata": {},
   "outputs": [
    {
     "data": {
      "text/plain": [
       "np.float64(31.19154299732994)"
      ]
     },
     "execution_count": 142,
     "metadata": {},
     "output_type": "execute_result"
    }
   ],
   "source": [
    "Shanghai_lat_mean=merged_dataset[merged_dataset['city']==\"Shanghai\"]['accept_gps_lat'].mean()\n",
    "Shanghai_lat_mean"
   ]
  },
  {
   "cell_type": "code",
   "execution_count": 143,
   "id": "e9ed0a6d",
   "metadata": {},
   "outputs": [
    {
     "data": {
      "text/plain": [
       "np.float64(37.43368939468357)"
      ]
     },
     "execution_count": 143,
     "metadata": {},
     "output_type": "execute_result"
    }
   ],
   "source": [
    "Yantai_lat_mean=merged_dataset[merged_dataset['city']==\"Yantai\"]['accept_gps_lat'].mean()\n",
    "Yantai_lat_mean"
   ]
  },
  {
   "cell_type": "code",
   "execution_count": 144,
   "id": "beb71a63",
   "metadata": {},
   "outputs": [
    {
     "data": {
      "text/plain": [
       "array(['Jilin', 'Yantai'], dtype=object)"
      ]
     },
     "execution_count": 144,
     "metadata": {},
     "output_type": "execute_result"
    }
   ],
   "source": [
    "#to know the cities with null values (Jilin,Yantai)\n",
    "#to access only the cities having null.\n",
    "merged_dataset[merged_dataset.isnull().any(axis=1)][\"city\"].unique()"
   ]
  },
  {
   "cell_type": "code",
   "execution_count": 145,
   "id": "4e7c81ac-bad1-49d5-a831-020731aa4fc9",
   "metadata": {},
   "outputs": [],
   "source": [
    "#filling the mean values in the appropriate cities"
   ]
  },
  {
   "cell_type": "code",
   "execution_count": 146,
   "id": "06f24ced",
   "metadata": {},
   "outputs": [],
   "source": [
    "merged_dataset.loc[merged_dataset[\"city\"]==\"Jilin\",\"accept_gps_lng\"]=merged_dataset.loc[merged_dataset[\"city\"]==\"Jilin\",\"accept_gps_lng\"].fillna(126.52444352002625)\n"
   ]
  },
  {
   "cell_type": "code",
   "execution_count": 147,
   "id": "703dd8e9",
   "metadata": {},
   "outputs": [],
   "source": [
    "merged_dataset.loc[merged_dataset[\"city\"]==\"Jilin\",\"accept_gps_lat\"]=merged_dataset.loc[merged_dataset[\"city\"]==\"Jilin\",\"accept_gps_lat\"].fillna(43.83430860111622)"
   ]
  },
  {
   "cell_type": "code",
   "execution_count": 148,
   "id": "83eea332",
   "metadata": {},
   "outputs": [],
   "source": [
    "merged_dataset.loc[merged_dataset[\"city\"]==\"Yantai\",\"accept_gps_lng\"]=merged_dataset.loc[merged_dataset[\"city\"]==\"Yantai\",\"accept_gps_lng\"].fillna(121.11832271360576)"
   ]
  },
  {
   "cell_type": "code",
   "execution_count": 149,
   "id": "d820bd72",
   "metadata": {},
   "outputs": [],
   "source": [
    "merged_dataset.loc[merged_dataset[\"city\"]==\"Yantai\",\"accept_gps_lat\"]=merged_dataset.loc[merged_dataset[\"city\"]==\"Yantai\",\"accept_gps_lat\"].fillna(37.43368939468357)"
   ]
  },
  {
   "cell_type": "code",
   "execution_count": 150,
   "id": "e62fbbe4",
   "metadata": {},
   "outputs": [
    {
     "data": {
      "text/plain": [
       "order_id             0\n",
       "region_id            0\n",
       "city                 0\n",
       "courier_id           0\n",
       "lng                  0\n",
       "lat                  0\n",
       "aoi_id               0\n",
       "aoi_type             0\n",
       "accept_time          0\n",
       "accept_gps_time      0\n",
       "accept_gps_lng       0\n",
       "accept_gps_lat       0\n",
       "delivery_time        0\n",
       "delivery_gps_time    0\n",
       "delivery_gps_lng     0\n",
       "delivery_gps_lat     0\n",
       "ds                   0\n",
       "dtype: int64"
      ]
     },
     "execution_count": 150,
     "metadata": {},
     "output_type": "execute_result"
    }
   ],
   "source": [
    "#checking the exisitence of null values in the dataset.\n",
    "merged_dataset.isnull().sum()"
   ]
  },
  {
   "cell_type": "markdown",
   "id": "a44521cb-edb8-4a4f-ad2c-c50f49c99e0d",
   "metadata": {},
   "source": [
    "### Handling Duplicates"
   ]
  },
  {
   "cell_type": "code",
   "execution_count": 151,
   "id": "693d10e6-4dd5-464e-9d4f-b72e485e1b9d",
   "metadata": {},
   "outputs": [],
   "source": [
    "merged_dataset.drop_duplicates(subset=[\"order_id\"], inplace=True)"
   ]
  },
  {
   "cell_type": "code",
   "execution_count": 152,
   "id": "8d48d76a",
   "metadata": {},
   "outputs": [
    {
     "data": {
      "text/html": [
       "<div>\n",
       "<style scoped>\n",
       "    .dataframe tbody tr th:only-of-type {\n",
       "        vertical-align: middle;\n",
       "    }\n",
       "\n",
       "    .dataframe tbody tr th {\n",
       "        vertical-align: top;\n",
       "    }\n",
       "\n",
       "    .dataframe thead th {\n",
       "        text-align: right;\n",
       "    }\n",
       "</style>\n",
       "<table border=\"1\" class=\"dataframe\">\n",
       "  <thead>\n",
       "    <tr style=\"text-align: right;\">\n",
       "      <th></th>\n",
       "      <th>order_id</th>\n",
       "      <th>region_id</th>\n",
       "      <th>city</th>\n",
       "      <th>courier_id</th>\n",
       "      <th>lng</th>\n",
       "      <th>lat</th>\n",
       "      <th>aoi_id</th>\n",
       "      <th>aoi_type</th>\n",
       "      <th>accept_time</th>\n",
       "      <th>accept_gps_time</th>\n",
       "      <th>accept_gps_lng</th>\n",
       "      <th>accept_gps_lat</th>\n",
       "      <th>delivery_time</th>\n",
       "      <th>delivery_gps_time</th>\n",
       "      <th>delivery_gps_lng</th>\n",
       "      <th>delivery_gps_lat</th>\n",
       "      <th>ds</th>\n",
       "    </tr>\n",
       "  </thead>\n",
       "  <tbody>\n",
       "  </tbody>\n",
       "</table>\n",
       "</div>"
      ],
      "text/plain": [
       "Empty DataFrame\n",
       "Columns: [order_id, region_id, city, courier_id, lng, lat, aoi_id, aoi_type, accept_time, accept_gps_time, accept_gps_lng, accept_gps_lat, delivery_time, delivery_gps_time, delivery_gps_lng, delivery_gps_lat, ds]\n",
       "Index: []"
      ]
     },
     "execution_count": 152,
     "metadata": {},
     "output_type": "execute_result"
    }
   ],
   "source": [
    "#cross-checking the existence of duplicates\n",
    "merged_dataset[merged_dataset.duplicated(subset=\"order_id\")]\n",
    "#no duplicates in order_id"
   ]
  },
  {
   "cell_type": "code",
   "execution_count": 153,
   "id": "4fbbb9b2",
   "metadata": {},
   "outputs": [],
   "source": [
    "#to verify perform info and see dataset"
   ]
  },
  {
   "cell_type": "markdown",
   "id": "1b185397",
   "metadata": {},
   "source": [
    "### Verifying Data Types:"
   ]
  },
  {
   "cell_type": "code",
   "execution_count": 154,
   "id": "4fcd6376",
   "metadata": {},
   "outputs": [
    {
     "name": "stdout",
     "output_type": "stream",
     "text": [
      "<class 'pandas.core.frame.DataFrame'>\n",
      "RangeIndex: 4514661 entries, 0 to 4514660\n",
      "Data columns (total 17 columns):\n",
      " #   Column             Dtype  \n",
      "---  ------             -----  \n",
      " 0   order_id           int64  \n",
      " 1   region_id          int64  \n",
      " 2   city               object \n",
      " 3   courier_id         int64  \n",
      " 4   lng                float64\n",
      " 5   lat                float64\n",
      " 6   aoi_id             int64  \n",
      " 7   aoi_type           int64  \n",
      " 8   accept_time        object \n",
      " 9   accept_gps_time    object \n",
      " 10  accept_gps_lng     float64\n",
      " 11  accept_gps_lat     float64\n",
      " 12  delivery_time      object \n",
      " 13  delivery_gps_time  object \n",
      " 14  delivery_gps_lng   float64\n",
      " 15  delivery_gps_lat   float64\n",
      " 16  ds                 int64  \n",
      "dtypes: float64(6), int64(6), object(5)\n",
      "memory usage: 585.6+ MB\n"
     ]
    }
   ],
   "source": [
    "#looking into the datatypes of each column\n",
    "merged_dataset.info()"
   ]
  },
  {
   "cell_type": "code",
   "execution_count": 155,
   "id": "04aeaaf5-f3c3-420c-b45d-d9257fa49252",
   "metadata": {},
   "outputs": [],
   "source": [
    "#1. Convert time related columns into datetime.\n",
    "#2 Convert aoi_type into categorical.\n",
    "#3 Ensure lat and lng are float."
   ]
  },
  {
   "cell_type": "code",
   "execution_count": 156,
   "id": "0d7e6f44",
   "metadata": {},
   "outputs": [],
   "source": [
    "## to know the memory usage before converting into categorical"
   ]
  },
  {
   "cell_type": "code",
   "execution_count": 157,
   "id": "b4673be8",
   "metadata": {},
   "outputs": [
    {
     "name": "stdout",
     "output_type": "stream",
     "text": [
      "36117420\n"
     ]
    }
   ],
   "source": [
    "print(merged_dataset['aoi_type'].memory_usage(deep=True))"
   ]
  },
  {
   "cell_type": "code",
   "execution_count": 158,
   "id": "8b1286f0",
   "metadata": {},
   "outputs": [],
   "source": [
    "merged_dataset['aoi_type']=pd.Categorical(merged_dataset['aoi_type'], ordered=False)\n",
    "#merged_dataset[\"aoi_type\"].astype(\"category\")   #another way"
   ]
  },
  {
   "cell_type": "code",
   "execution_count": 159,
   "id": "d2b98e01",
   "metadata": {},
   "outputs": [],
   "source": [
    "#after converting into categorical.\n",
    "#memory size has been reduced."
   ]
  },
  {
   "cell_type": "code",
   "execution_count": 160,
   "id": "d4d7259e",
   "metadata": {},
   "outputs": [
    {
     "name": "stdout",
     "output_type": "stream",
     "text": [
      "4515477\n"
     ]
    }
   ],
   "source": [
    "print(merged_dataset['aoi_type'].memory_usage(deep=True))"
   ]
  },
  {
   "cell_type": "code",
   "execution_count": 161,
   "id": "904b9d37-a3bd-4e79-b338-609483d29bb6",
   "metadata": {},
   "outputs": [],
   "source": [
    "#converting accept_time from object into datetime.\n",
    "merged_dataset['accept_time'] = pd.to_datetime(merged_dataset['accept_time'], format='%Y-%m-%d %H:%M:%S', errors='coerce')\n",
    "merged_dataset['accept_gps_time'] = pd.to_datetime(merged_dataset['accept_gps_time'], format='%Y-%m-%d %H:%M:%S', errors='coerce')\n",
    "merged_dataset['delivery_time'] = pd.to_datetime(merged_dataset['delivery_time'], format='%Y-%m-%d %H:%M:%S', errors='coerce')\n",
    "merged_dataset['delivery_gps_time'] = pd.to_datetime(merged_dataset['delivery_gps_time'], format='%Y-%m-%d %H:%M:%S', errors='coerce')\n",
    "\n",
    "merged_dataset['lat'] = pd.to_numeric(merged_dataset['lat'], errors='coerce')\n",
    "merged_dataset['lng'] = pd.to_numeric(merged_dataset['lng'], errors='coerce')"
   ]
  },
  {
   "cell_type": "code",
   "execution_count": 162,
   "id": "4a427466-6217-48a9-942d-f53257cfcd0b",
   "metadata": {},
   "outputs": [
    {
     "data": {
      "text/html": [
       "<div>\n",
       "<style scoped>\n",
       "    .dataframe tbody tr th:only-of-type {\n",
       "        vertical-align: middle;\n",
       "    }\n",
       "\n",
       "    .dataframe tbody tr th {\n",
       "        vertical-align: top;\n",
       "    }\n",
       "\n",
       "    .dataframe thead th {\n",
       "        text-align: right;\n",
       "    }\n",
       "</style>\n",
       "<table border=\"1\" class=\"dataframe\">\n",
       "  <thead>\n",
       "    <tr style=\"text-align: right;\">\n",
       "      <th></th>\n",
       "      <th>order_id</th>\n",
       "      <th>region_id</th>\n",
       "      <th>city</th>\n",
       "      <th>courier_id</th>\n",
       "      <th>lng</th>\n",
       "      <th>lat</th>\n",
       "      <th>aoi_id</th>\n",
       "      <th>aoi_type</th>\n",
       "      <th>accept_time</th>\n",
       "      <th>accept_gps_time</th>\n",
       "      <th>accept_gps_lng</th>\n",
       "      <th>accept_gps_lat</th>\n",
       "      <th>delivery_time</th>\n",
       "      <th>delivery_gps_time</th>\n",
       "      <th>delivery_gps_lng</th>\n",
       "      <th>delivery_gps_lat</th>\n",
       "      <th>ds</th>\n",
       "    </tr>\n",
       "  </thead>\n",
       "  <tbody>\n",
       "    <tr>\n",
       "      <th>0</th>\n",
       "      <td>2031782</td>\n",
       "      <td>10</td>\n",
       "      <td>Chongqing</td>\n",
       "      <td>73</td>\n",
       "      <td>108.71571</td>\n",
       "      <td>30.90228</td>\n",
       "      <td>50</td>\n",
       "      <td>14</td>\n",
       "      <td>2024-10-22 10:26:00</td>\n",
       "      <td>2024-10-22 10:26:00</td>\n",
       "      <td>108.71826</td>\n",
       "      <td>30.95587</td>\n",
       "      <td>2024-10-22 17:04:00</td>\n",
       "      <td>2024-10-22 17:04:00</td>\n",
       "      <td>108.66361</td>\n",
       "      <td>30.96702</td>\n",
       "      <td>1022</td>\n",
       "    </tr>\n",
       "    <tr>\n",
       "      <th>1</th>\n",
       "      <td>4285071</td>\n",
       "      <td>10</td>\n",
       "      <td>Chongqing</td>\n",
       "      <td>3605</td>\n",
       "      <td>108.71639</td>\n",
       "      <td>30.90269</td>\n",
       "      <td>50</td>\n",
       "      <td>14</td>\n",
       "      <td>2024-09-07 10:13:00</td>\n",
       "      <td>2024-09-07 10:13:00</td>\n",
       "      <td>108.71791</td>\n",
       "      <td>30.95635</td>\n",
       "      <td>2024-09-09 15:44:00</td>\n",
       "      <td>2024-09-09 15:44:00</td>\n",
       "      <td>108.71644</td>\n",
       "      <td>30.90266</td>\n",
       "      <td>907</td>\n",
       "    </tr>\n",
       "    <tr>\n",
       "      <th>2</th>\n",
       "      <td>4056800</td>\n",
       "      <td>10</td>\n",
       "      <td>Chongqing</td>\n",
       "      <td>3605</td>\n",
       "      <td>108.71645</td>\n",
       "      <td>30.90259</td>\n",
       "      <td>50</td>\n",
       "      <td>14</td>\n",
       "      <td>2024-06-26 09:49:00</td>\n",
       "      <td>2024-06-26 09:49:00</td>\n",
       "      <td>108.71798</td>\n",
       "      <td>30.95635</td>\n",
       "      <td>2024-06-27 16:03:00</td>\n",
       "      <td>2024-06-27 16:03:00</td>\n",
       "      <td>108.71647</td>\n",
       "      <td>30.90251</td>\n",
       "      <td>626</td>\n",
       "    </tr>\n",
       "    <tr>\n",
       "      <th>3</th>\n",
       "      <td>3589481</td>\n",
       "      <td>10</td>\n",
       "      <td>Chongqing</td>\n",
       "      <td>3605</td>\n",
       "      <td>108.71650</td>\n",
       "      <td>30.90347</td>\n",
       "      <td>50</td>\n",
       "      <td>14</td>\n",
       "      <td>2024-09-11 11:01:00</td>\n",
       "      <td>2024-09-11 11:01:00</td>\n",
       "      <td>108.71823</td>\n",
       "      <td>30.95596</td>\n",
       "      <td>2024-09-13 17:14:00</td>\n",
       "      <td>2024-09-13 17:14:00</td>\n",
       "      <td>108.71650</td>\n",
       "      <td>30.90341</td>\n",
       "      <td>911</td>\n",
       "    </tr>\n",
       "    <tr>\n",
       "      <th>4</th>\n",
       "      <td>2752329</td>\n",
       "      <td>10</td>\n",
       "      <td>Chongqing</td>\n",
       "      <td>3605</td>\n",
       "      <td>108.71608</td>\n",
       "      <td>30.90409</td>\n",
       "      <td>50</td>\n",
       "      <td>14</td>\n",
       "      <td>2024-10-01 09:52:00</td>\n",
       "      <td>2024-10-01 09:52:00</td>\n",
       "      <td>108.71820</td>\n",
       "      <td>30.95598</td>\n",
       "      <td>2024-10-01 18:30:00</td>\n",
       "      <td>2024-10-01 18:30:00</td>\n",
       "      <td>108.71413</td>\n",
       "      <td>30.90397</td>\n",
       "      <td>1001</td>\n",
       "    </tr>\n",
       "    <tr>\n",
       "      <th>...</th>\n",
       "      <td>...</td>\n",
       "      <td>...</td>\n",
       "      <td>...</td>\n",
       "      <td>...</td>\n",
       "      <td>...</td>\n",
       "      <td>...</td>\n",
       "      <td>...</td>\n",
       "      <td>...</td>\n",
       "      <td>...</td>\n",
       "      <td>...</td>\n",
       "      <td>...</td>\n",
       "      <td>...</td>\n",
       "      <td>...</td>\n",
       "      <td>...</td>\n",
       "      <td>...</td>\n",
       "      <td>...</td>\n",
       "      <td>...</td>\n",
       "    </tr>\n",
       "    <tr>\n",
       "      <th>4514656</th>\n",
       "      <td>2512759</td>\n",
       "      <td>167</td>\n",
       "      <td>Yantai</td>\n",
       "      <td>1571</td>\n",
       "      <td>121.19537</td>\n",
       "      <td>36.78027</td>\n",
       "      <td>60137</td>\n",
       "      <td>1</td>\n",
       "      <td>2024-07-03 15:14:00</td>\n",
       "      <td>2024-07-03 15:14:00</td>\n",
       "      <td>121.20571</td>\n",
       "      <td>36.76358</td>\n",
       "      <td>2024-07-03 17:33:00</td>\n",
       "      <td>2024-07-03 17:33:00</td>\n",
       "      <td>121.19512</td>\n",
       "      <td>36.78016</td>\n",
       "      <td>703</td>\n",
       "    </tr>\n",
       "    <tr>\n",
       "      <th>4514657</th>\n",
       "      <td>3779171</td>\n",
       "      <td>167</td>\n",
       "      <td>Yantai</td>\n",
       "      <td>1571</td>\n",
       "      <td>121.19646</td>\n",
       "      <td>36.78103</td>\n",
       "      <td>60137</td>\n",
       "      <td>1</td>\n",
       "      <td>2024-05-24 10:06:00</td>\n",
       "      <td>2024-05-24 10:06:00</td>\n",
       "      <td>121.20567</td>\n",
       "      <td>36.76358</td>\n",
       "      <td>2024-05-24 15:12:00</td>\n",
       "      <td>2024-05-24 15:12:00</td>\n",
       "      <td>121.19635</td>\n",
       "      <td>36.78090</td>\n",
       "      <td>524</td>\n",
       "    </tr>\n",
       "    <tr>\n",
       "      <th>4514658</th>\n",
       "      <td>4198558</td>\n",
       "      <td>167</td>\n",
       "      <td>Yantai</td>\n",
       "      <td>3402</td>\n",
       "      <td>121.19515</td>\n",
       "      <td>36.78057</td>\n",
       "      <td>60137</td>\n",
       "      <td>1</td>\n",
       "      <td>2024-05-01 15:13:00</td>\n",
       "      <td>2024-05-01 15:13:00</td>\n",
       "      <td>121.20555</td>\n",
       "      <td>36.76358</td>\n",
       "      <td>2024-05-01 16:06:00</td>\n",
       "      <td>2024-05-01 16:06:00</td>\n",
       "      <td>121.19567</td>\n",
       "      <td>36.78372</td>\n",
       "      <td>501</td>\n",
       "    </tr>\n",
       "    <tr>\n",
       "      <th>4514659</th>\n",
       "      <td>1805034</td>\n",
       "      <td>167</td>\n",
       "      <td>Yantai</td>\n",
       "      <td>3402</td>\n",
       "      <td>121.19631</td>\n",
       "      <td>36.78100</td>\n",
       "      <td>60137</td>\n",
       "      <td>1</td>\n",
       "      <td>2024-05-05 09:22:00</td>\n",
       "      <td>2024-05-05 09:22:00</td>\n",
       "      <td>121.20561</td>\n",
       "      <td>36.76357</td>\n",
       "      <td>2024-05-05 17:24:00</td>\n",
       "      <td>2024-05-05 17:24:00</td>\n",
       "      <td>121.19639</td>\n",
       "      <td>36.78082</td>\n",
       "      <td>505</td>\n",
       "    </tr>\n",
       "    <tr>\n",
       "      <th>4514660</th>\n",
       "      <td>2801941</td>\n",
       "      <td>167</td>\n",
       "      <td>Yantai</td>\n",
       "      <td>4314</td>\n",
       "      <td>121.19632</td>\n",
       "      <td>36.78072</td>\n",
       "      <td>60137</td>\n",
       "      <td>1</td>\n",
       "      <td>2024-08-08 09:54:00</td>\n",
       "      <td>2024-08-08 09:54:00</td>\n",
       "      <td>121.20551</td>\n",
       "      <td>36.76350</td>\n",
       "      <td>2024-08-08 14:59:00</td>\n",
       "      <td>2024-08-08 14:59:00</td>\n",
       "      <td>121.20007</td>\n",
       "      <td>36.77130</td>\n",
       "      <td>808</td>\n",
       "    </tr>\n",
       "  </tbody>\n",
       "</table>\n",
       "<p>4514661 rows × 17 columns</p>\n",
       "</div>"
      ],
      "text/plain": [
       "         order_id  region_id       city  courier_id        lng       lat  \\\n",
       "0         2031782         10  Chongqing          73  108.71571  30.90228   \n",
       "1         4285071         10  Chongqing        3605  108.71639  30.90269   \n",
       "2         4056800         10  Chongqing        3605  108.71645  30.90259   \n",
       "3         3589481         10  Chongqing        3605  108.71650  30.90347   \n",
       "4         2752329         10  Chongqing        3605  108.71608  30.90409   \n",
       "...           ...        ...        ...         ...        ...       ...   \n",
       "4514656   2512759        167     Yantai        1571  121.19537  36.78027   \n",
       "4514657   3779171        167     Yantai        1571  121.19646  36.78103   \n",
       "4514658   4198558        167     Yantai        3402  121.19515  36.78057   \n",
       "4514659   1805034        167     Yantai        3402  121.19631  36.78100   \n",
       "4514660   2801941        167     Yantai        4314  121.19632  36.78072   \n",
       "\n",
       "         aoi_id aoi_type         accept_time     accept_gps_time  \\\n",
       "0            50       14 2024-10-22 10:26:00 2024-10-22 10:26:00   \n",
       "1            50       14 2024-09-07 10:13:00 2024-09-07 10:13:00   \n",
       "2            50       14 2024-06-26 09:49:00 2024-06-26 09:49:00   \n",
       "3            50       14 2024-09-11 11:01:00 2024-09-11 11:01:00   \n",
       "4            50       14 2024-10-01 09:52:00 2024-10-01 09:52:00   \n",
       "...         ...      ...                 ...                 ...   \n",
       "4514656   60137        1 2024-07-03 15:14:00 2024-07-03 15:14:00   \n",
       "4514657   60137        1 2024-05-24 10:06:00 2024-05-24 10:06:00   \n",
       "4514658   60137        1 2024-05-01 15:13:00 2024-05-01 15:13:00   \n",
       "4514659   60137        1 2024-05-05 09:22:00 2024-05-05 09:22:00   \n",
       "4514660   60137        1 2024-08-08 09:54:00 2024-08-08 09:54:00   \n",
       "\n",
       "         accept_gps_lng  accept_gps_lat       delivery_time  \\\n",
       "0             108.71826        30.95587 2024-10-22 17:04:00   \n",
       "1             108.71791        30.95635 2024-09-09 15:44:00   \n",
       "2             108.71798        30.95635 2024-06-27 16:03:00   \n",
       "3             108.71823        30.95596 2024-09-13 17:14:00   \n",
       "4             108.71820        30.95598 2024-10-01 18:30:00   \n",
       "...                 ...             ...                 ...   \n",
       "4514656       121.20571        36.76358 2024-07-03 17:33:00   \n",
       "4514657       121.20567        36.76358 2024-05-24 15:12:00   \n",
       "4514658       121.20555        36.76358 2024-05-01 16:06:00   \n",
       "4514659       121.20561        36.76357 2024-05-05 17:24:00   \n",
       "4514660       121.20551        36.76350 2024-08-08 14:59:00   \n",
       "\n",
       "          delivery_gps_time  delivery_gps_lng  delivery_gps_lat    ds  \n",
       "0       2024-10-22 17:04:00         108.66361          30.96702  1022  \n",
       "1       2024-09-09 15:44:00         108.71644          30.90266   907  \n",
       "2       2024-06-27 16:03:00         108.71647          30.90251   626  \n",
       "3       2024-09-13 17:14:00         108.71650          30.90341   911  \n",
       "4       2024-10-01 18:30:00         108.71413          30.90397  1001  \n",
       "...                     ...               ...               ...   ...  \n",
       "4514656 2024-07-03 17:33:00         121.19512          36.78016   703  \n",
       "4514657 2024-05-24 15:12:00         121.19635          36.78090   524  \n",
       "4514658 2024-05-01 16:06:00         121.19567          36.78372   501  \n",
       "4514659 2024-05-05 17:24:00         121.19639          36.78082   505  \n",
       "4514660 2024-08-08 14:59:00         121.20007          36.77130   808  \n",
       "\n",
       "[4514661 rows x 17 columns]"
      ]
     },
     "execution_count": 162,
     "metadata": {},
     "output_type": "execute_result"
    }
   ],
   "source": [
    "merged_dataset"
   ]
  },
  {
   "cell_type": "code",
   "execution_count": 163,
   "id": "7b721ed2-2cff-45ad-86b8-77fbb0aa9982",
   "metadata": {},
   "outputs": [
    {
     "name": "stdout",
     "output_type": "stream",
     "text": [
      "<class 'pandas.core.frame.DataFrame'>\n",
      "RangeIndex: 4514661 entries, 0 to 4514660\n",
      "Data columns (total 17 columns):\n",
      " #   Column             Dtype         \n",
      "---  ------             -----         \n",
      " 0   order_id           int64         \n",
      " 1   region_id          int64         \n",
      " 2   city               object        \n",
      " 3   courier_id         int64         \n",
      " 4   lng                float64       \n",
      " 5   lat                float64       \n",
      " 6   aoi_id             int64         \n",
      " 7   aoi_type           category      \n",
      " 8   accept_time        datetime64[ns]\n",
      " 9   accept_gps_time    datetime64[ns]\n",
      " 10  accept_gps_lng     float64       \n",
      " 11  accept_gps_lat     float64       \n",
      " 12  delivery_time      datetime64[ns]\n",
      " 13  delivery_gps_time  datetime64[ns]\n",
      " 14  delivery_gps_lng   float64       \n",
      " 15  delivery_gps_lat   float64       \n",
      " 16  ds                 int64         \n",
      "dtypes: category(1), datetime64[ns](4), float64(6), int64(5), object(1)\n",
      "memory usage: 555.4+ MB\n"
     ]
    }
   ],
   "source": [
    "#cross-check for the above conversions.\n",
    "merged_dataset.info()"
   ]
  },
  {
   "cell_type": "markdown",
   "id": "b678a319",
   "metadata": {},
   "source": [
    "### Delivery Duration Calculation:"
   ]
  },
  {
   "cell_type": "code",
   "execution_count": 164,
   "id": "6177032a",
   "metadata": {},
   "outputs": [],
   "source": [
    "merged_dataset[\"delivery_duration\"]= (merged_dataset[\"delivery_time\"]-merged_dataset[\"accept_time\"]).dt.total_seconds()/3600"
   ]
  },
  {
   "cell_type": "markdown",
   "id": "1faf78e3-2bb4-48b5-b304-af5fe7e7deae",
   "metadata": {},
   "source": [
    "### Calculating Distance"
   ]
  },
  {
   "cell_type": "code",
   "execution_count": 165,
   "id": "91ef0b79-eda2-4010-b80c-cc04cc648918",
   "metadata": {},
   "outputs": [],
   "source": [
    "merged_dataset['distance'] = np.sqrt((merged_dataset['delivery_gps_lng'] - merged_dataset['accept_gps_lng'])**2 + (merged_dataset['delivery_gps_lat'] - merged_dataset['accept_gps_lat'])**2)"
   ]
  },
  {
   "cell_type": "markdown",
   "id": "f3d31d7b-196f-42bf-8a49-a48d4b15358c",
   "metadata": {},
   "source": [
    "### Outlier Detection:"
   ]
  },
  {
   "cell_type": "code",
   "execution_count": 166,
   "id": "5e9c5b59-77b0-427b-879c-8e295f747e22",
   "metadata": {},
   "outputs": [],
   "source": [
    "#1 Using z-score or IQR to detect and remove these outliers in Delivery Duration.\n",
    "#2 Validate lng/lat values for any out-of-bound entries: Latitude range: -90 to 90 and Longitude range: -180 to 180."
   ]
  },
  {
   "cell_type": "code",
   "execution_count": 167,
   "id": "2f48d238-e5a4-4a81-ac03-3f401d9e4dc2",
   "metadata": {},
   "outputs": [],
   "source": [
    "#Using IQR-score"
   ]
  },
  {
   "cell_type": "raw",
   "id": "f52e63b9-2fa1-490d-829d-f27d89f3d353",
   "metadata": {},
   "source": [
    "\n",
    "Q1=merged_dataset[\"delivery_duration\"].quantile(0.25)\n",
    "Q3=merged_dataset[\"delivery_duration\"].quantile(0.75)\n",
    "\n",
    "IQR=Q3-Q1\n",
    "\n",
    "Lower_Bound=Q1-IQR*1.5\n",
    "Upper_Bound=Q3+IQR*1.5\n",
    "\n",
    "merged_dataset=merged_dataset[merged_dataset[\"delivery_duration\"]>Lower_Bound & merged_dataset[\"delivery_duration\"]< Upper_Bound]\n",
    "\n"
   ]
  },
  {
   "cell_type": "code",
   "execution_count": 168,
   "id": "9ef77f86-a731-49fe-af0e-46cff3643ba3",
   "metadata": {},
   "outputs": [],
   "source": [
    "#Using z-score."
   ]
  },
  {
   "cell_type": "code",
   "execution_count": 169,
   "id": "8e5191b9-581c-400c-a460-db9931ea53be",
   "metadata": {},
   "outputs": [],
   "source": [
    "#calculating the z_score for the delivery duration.\n",
    "merged_dataset[\"z_score\"]=zscore(merged_dataset[\"delivery_duration\"])\n",
    "\n",
    "#removing outliers.\n",
    "merged_dataset=merged_dataset[(merged_dataset[\"z_score\"] <= 3) & (merged_dataset[\"z_score\"] >= -3)]"
   ]
  },
  {
   "cell_type": "code",
   "execution_count": 170,
   "id": "69d68b22-54e9-4add-82ff-99ce6a20b2b7",
   "metadata": {},
   "outputs": [
    {
     "name": "stderr",
     "output_type": "stream",
     "text": [
      "C:\\Users\\RUBAN\\AppData\\Local\\Temp\\ipykernel_7116\\288125615.py:1: SettingWithCopyWarning: \n",
      "A value is trying to be set on a copy of a slice from a DataFrame\n",
      "\n",
      "See the caveats in the documentation: https://pandas.pydata.org/pandas-docs/stable/user_guide/indexing.html#returning-a-view-versus-a-copy\n",
      "  merged_dataset.drop(columns=['z_score'], inplace=True)\n"
     ]
    }
   ],
   "source": [
    "merged_dataset.drop(columns=['z_score'], inplace=True)"
   ]
  },
  {
   "cell_type": "markdown",
   "id": "80a7c740-2b8d-4585-8ce8-d70ac346eed6",
   "metadata": {},
   "source": [
    "### Geospatial Anomalies:"
   ]
  },
  {
   "cell_type": "code",
   "execution_count": 171,
   "id": "acf117ef-0439-4b2a-8803-429640ec39d1",
   "metadata": {},
   "outputs": [],
   "source": [
    "merged_dataset = merged_dataset[(merged_dataset['accept_gps_lat'] >= -90) & (merged_dataset['accept_gps_lat'] <= 90)]"
   ]
  },
  {
   "cell_type": "code",
   "execution_count": 172,
   "id": "f974fd60-b3f2-40e5-8406-9c88e94c8fbe",
   "metadata": {},
   "outputs": [],
   "source": [
    "merged_dataset = merged_dataset[(merged_dataset['accept_gps_lng'] >= -180) & (merged_dataset['accept_gps_lng'] <= 180)]"
   ]
  },
  {
   "cell_type": "code",
   "execution_count": 173,
   "id": "57e5fe2d-bb59-40d6-a2fa-e537694505c4",
   "metadata": {},
   "outputs": [],
   "source": [
    "merged_dataset = merged_dataset[(merged_dataset['delivery_gps_lat'] >= -90) & (merged_dataset['delivery_gps_lat'] <= 90)]"
   ]
  },
  {
   "cell_type": "code",
   "execution_count": 174,
   "id": "ecfbd80e-e389-4883-a608-f8dc4bed407e",
   "metadata": {},
   "outputs": [],
   "source": [
    "merged_dataset = merged_dataset[(merged_dataset['delivery_gps_lng'] >= -180) & (merged_dataset['delivery_gps_lng'] <= 180)]"
   ]
  },
  {
   "cell_type": "code",
   "execution_count": 175,
   "id": "1c96e939-8b29-415c-a4ae-1be19c6694e6",
   "metadata": {},
   "outputs": [
    {
     "name": "stdout",
     "output_type": "stream",
     "text": [
      "Rows left after filtering: 4492923\n"
     ]
    }
   ],
   "source": [
    "print(\"Rows left after filtering:\", merged_dataset.shape[0])"
   ]
  },
  {
   "cell_type": "markdown",
   "id": "189b331c-f7fa-4853-bea0-20ff8c4869b0",
   "metadata": {},
   "source": [
    "### ONE HOT ENCODING"
   ]
  },
  {
   "cell_type": "code",
   "execution_count": 176,
   "id": "d10fb72c-313b-400f-9b89-8a695db4be70",
   "metadata": {},
   "outputs": [],
   "source": [
    "#Performing OHE for aoi_type and city"
   ]
  },
  {
   "cell_type": "code",
   "execution_count": 177,
   "id": "beaf0c9b-6457-4889-8b4a-2ac72b383b99",
   "metadata": {},
   "outputs": [],
   "source": [
    "merged_dataset = pd.get_dummies(merged_dataset, columns=['aoi_type'], drop_first=True)"
   ]
  },
  {
   "cell_type": "code",
   "execution_count": 178,
   "id": "73fdc932-0319-44da-a2a6-f8b348318ae3",
   "metadata": {},
   "outputs": [],
   "source": [
    "merged_dataset = pd.get_dummies(merged_dataset, columns=['city'], drop_first=True)"
   ]
  },
  {
   "cell_type": "code",
   "execution_count": 179,
   "id": "9356c87d-a021-4410-bfb9-866a2c7afb61",
   "metadata": {},
   "outputs": [
    {
     "data": {
      "text/plain": [
       "Index(['order_id', 'region_id', 'courier_id', 'lng', 'lat', 'aoi_id',\n",
       "       'accept_time', 'accept_gps_time', 'accept_gps_lng', 'accept_gps_lat',\n",
       "       'delivery_time', 'delivery_gps_time', 'delivery_gps_lng',\n",
       "       'delivery_gps_lat', 'ds', 'delivery_duration', 'distance', 'aoi_type_1',\n",
       "       'aoi_type_2', 'aoi_type_3', 'aoi_type_4', 'aoi_type_5', 'aoi_type_6',\n",
       "       'aoi_type_7', 'aoi_type_8', 'aoi_type_9', 'aoi_type_10', 'aoi_type_11',\n",
       "       'aoi_type_12', 'aoi_type_13', 'aoi_type_14', 'aoi_type_15',\n",
       "       'city_Hangzhou', 'city_Jilin', 'city_Shanghai', 'city_Yantai'],\n",
       "      dtype='object')"
      ]
     },
     "execution_count": 179,
     "metadata": {},
     "output_type": "execute_result"
    }
   ],
   "source": [
    "merged_dataset.columns"
   ]
  },
  {
   "cell_type": "markdown",
   "id": "a400cea2-a3ee-490a-a94e-20119e775d2c",
   "metadata": {},
   "source": [
    "### Standardizing "
   ]
  },
  {
   "cell_type": "code",
   "execution_count": 180,
   "id": "a83e7901-8999-4a00-b965-f91224f60094",
   "metadata": {},
   "outputs": [],
   "source": [
    "#Normalize features like distance and delivery_duration to ensure all variables are on a similar scale."
   ]
  },
  {
   "cell_type": "code",
   "execution_count": 181,
   "id": "5c7da519-270c-428e-9652-5856bd3d25c9",
   "metadata": {},
   "outputs": [],
   "source": [
    "from sklearn.preprocessing import StandardScaler\n",
    "\n",
    "# Initialize the StandardScaler\n",
    "scaler = StandardScaler()\n",
    "\n",
    "# Standardize 'distance' and 'delivery_duration'\n",
    "numerical_columns = ['distance', 'delivery_duration']\n",
    "merged_dataset[numerical_columns] = scaler.fit_transform(merged_dataset[numerical_columns])"
   ]
  },
  {
   "cell_type": "markdown",
   "id": "24748fd7-ca85-423e-af0d-f8254d892424",
   "metadata": {},
   "source": [
    "### FINAL OUTPUT"
   ]
  },
  {
   "cell_type": "code",
   "execution_count": 182,
   "id": "3864fd1f-0964-4f4f-b81b-0e7f92b81c06",
   "metadata": {},
   "outputs": [],
   "source": [
    "merged_dataset.to_csv(r\"E:\\DATA ANALYTICS\\Internship\\Technocolabs\\Gologistics\\cleaned_dataset_delivery.csv\", index=False)"
   ]
  },
  {
   "cell_type": "code",
   "execution_count": null,
   "id": "2a91abe6-10bb-4e79-8a73-8d5a3e05e130",
   "metadata": {},
   "outputs": [],
   "source": []
  }
 ],
 "metadata": {
  "kernelspec": {
   "display_name": "Python 3 (ipykernel)",
   "language": "python",
   "name": "python3"
  },
  "language_info": {
   "codemirror_mode": {
    "name": "ipython",
    "version": 3
   },
   "file_extension": ".py",
   "mimetype": "text/x-python",
   "name": "python",
   "nbconvert_exporter": "python",
   "pygments_lexer": "ipython3",
   "version": "3.13.1"
  }
 },
 "nbformat": 4,
 "nbformat_minor": 5
}
